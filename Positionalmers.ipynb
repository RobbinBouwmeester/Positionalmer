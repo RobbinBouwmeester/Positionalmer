{
 "cells": [
  {
   "cell_type": "code",
   "execution_count": 370,
   "id": "a7732a1a",
   "metadata": {},
   "outputs": [
    {
     "data": {
      "text/plain": [
       "<module 'pos_switch' from 'K:\\\\positional_isomers\\\\pos_switch.py'>"
      ]
     },
     "execution_count": 370,
     "metadata": {},
     "output_type": "execute_result"
    }
   ],
   "source": [
    "import pandas as pd\n",
    "import numpy as np\n",
    "from matplotlib import pyplot as plt\n",
    "import deeplc\n",
    "from deeplcretrainer import retrain\n",
    "import os\n",
    "import shutil\n",
    "\n",
    "import pos_switch\n",
    "\n",
    "from collections import Counter\n",
    "\n",
    "import seaborn as sns\n",
    "\n",
    "from collections import Counter\n",
    "from copy import deepcopy\n",
    "\n",
    "from matplotlib.ticker import MaxNLocator\n",
    "\n",
    "import imp\n",
    "imp.reload(pos_switch)"
   ]
  },
  {
   "cell_type": "code",
   "execution_count": 2,
   "id": "5d90504b",
   "metadata": {},
   "outputs": [],
   "source": [
    "models = [\n",
    "    \"models/full_hc_mod_deeplc_train_filtered_1fd8363d9af9dcad3be7553c39396960.hdf5\",\n",
    "    \"models/full_hc_mod_deeplc_train_filtered_8c22d89667368f2f02ad996469ba157e.hdf5\",\n",
    "    \"models/full_hc_mod_deeplc_train_filtered_cb975cfdd4105f97efa0b3afffe075cc.hdf5\"\n",
    "]\n",
    "\n",
    "data_loc = \"datasets/PXD005573_mcp.csv\""
   ]
  },
  {
   "cell_type": "code",
   "execution_count": 3,
   "id": "41cc6413",
   "metadata": {},
   "outputs": [],
   "source": [
    "df = pd.read_csv(data_loc)\n",
    "msk = np.random.rand(len(df)) <= 0.8\n",
    "\n",
    "df[msk].to_csv(\"temp/pos_iso_train.csv\")\n",
    "df[~msk].to_csv(\"temp/pos_iso_eval.csv\")"
   ]
  },
  {
   "cell_type": "markdown",
   "id": "f5533387",
   "metadata": {},
   "source": [
    "# Start retrain"
   ]
  },
  {
   "cell_type": "code",
   "execution_count": 4,
   "id": "d72f75ca",
   "metadata": {},
   "outputs": [
    {
     "name": "stderr",
     "output_type": "stream",
     "text": [
      "K:\\positional_isomers\\cnn_functions.py:709: FutureWarning: Passing a set as an indexer is deprecated and will raise in a future version. Use a list instead.\n",
      "  df_train = df.loc[ids_train]\n",
      "K:\\positional_isomers\\cnn_functions.py:710: FutureWarning: Passing a set as an indexer is deprecated and will raise in a future version. Use a list instead.\n",
      "  df_test = df.loc[ids_test]\n",
      "K:\\positional_isomers\\cnn_functions.py:709: FutureWarning: Passing a set as an indexer is deprecated and will raise in a future version. Use a list instead.\n",
      "  df_train = df.loc[ids_train]\n",
      "K:\\positional_isomers\\cnn_functions.py:710: FutureWarning: Passing a set as an indexer is deprecated and will raise in a future version. Use a list instead.\n",
      "  df_test = df.loc[ids_test]\n"
     ]
    },
    {
     "name": "stdout",
     "output_type": "stream",
     "text": [
      "Epoch 1/5\n",
      "605/605 [==============================] - 19s 24ms/step - loss: 0.1860 - mean_absolute_error: 0.1612 - val_loss: 0.1347 - val_mean_absolute_error: 0.1107\n",
      "Epoch 2/5\n",
      "605/605 [==============================] - 13s 22ms/step - loss: 0.1381 - mean_absolute_error: 0.1145 - val_loss: 0.1255 - val_mean_absolute_error: 0.1022\n",
      "Epoch 3/5\n",
      "605/605 [==============================] - 13s 22ms/step - loss: 0.1279 - mean_absolute_error: 0.1050 - val_loss: 0.1239 - val_mean_absolute_error: 0.1012\n",
      "Epoch 4/5\n",
      "605/605 [==============================] - 13s 22ms/step - loss: 0.1242 - mean_absolute_error: 0.1017 - val_loss: 0.1200 - val_mean_absolute_error: 0.0976\n",
      "Epoch 5/5\n",
      "605/605 [==============================] - 13s 22ms/step - loss: 0.1219 - mean_absolute_error: 0.0996 - val_loss: 0.1216 - val_mean_absolute_error: 0.0995\n",
      "Epoch 1/5\n",
      "605/605 [==============================] - 18s 25ms/step - loss: 0.1900 - mean_absolute_error: 0.1582 - val_loss: 0.1398 - val_mean_absolute_error: 0.1096\n",
      "Epoch 2/5\n",
      "605/605 [==============================] - 15s 24ms/step - loss: 0.1432 - mean_absolute_error: 0.1139 - val_loss: 0.1407 - val_mean_absolute_error: 0.1121\n",
      "Epoch 3/5\n",
      "605/605 [==============================] - 14s 23ms/step - loss: 0.1348 - mean_absolute_error: 0.1067 - val_loss: 0.1274 - val_mean_absolute_error: 0.0997\n",
      "Epoch 4/5\n",
      "605/605 [==============================] - 14s 24ms/step - loss: 0.1289 - mean_absolute_error: 0.1015 - val_loss: 0.1676 - val_mean_absolute_error: 0.1405\n",
      "Epoch 5/5\n",
      "605/605 [==============================] - 14s 24ms/step - loss: 0.1265 - mean_absolute_error: 0.0997 - val_loss: 0.1182 - val_mean_absolute_error: 0.0916\n",
      "Epoch 1/5\n",
      "605/605 [==============================] - 18s 27ms/step - loss: 0.1988 - mean_absolute_error: 0.1605 - val_loss: 0.1471 - val_mean_absolute_error: 0.1124\n",
      "Epoch 2/5\n",
      "605/605 [==============================] - 15s 25ms/step - loss: 0.1524 - mean_absolute_error: 0.1190 - val_loss: 0.1440 - val_mean_absolute_error: 0.1116\n",
      "Epoch 3/5\n",
      "605/605 [==============================] - 15s 25ms/step - loss: 0.1443 - mean_absolute_error: 0.1127 - val_loss: 0.1548 - val_mean_absolute_error: 0.1238\n",
      "Epoch 4/5\n",
      "605/605 [==============================] - 15s 25ms/step - loss: 0.1421 - mean_absolute_error: 0.1113 - val_loss: 0.1550 - val_mean_absolute_error: 0.1243\n",
      "Epoch 5/5\n",
      "605/605 [==============================] - 15s 25ms/step - loss: 0.1336 - mean_absolute_error: 0.1038 - val_loss: 0.1317 - val_mean_absolute_error: 0.1021\n",
      "283/283 [==============================] - 3s 8ms/step\n",
      "283/283 [==============================] - 3s 8ms/step\n",
      "283/283 [==============================] - 3s 8ms/step\n",
      "283/283 [==============================] - 2s 7ms/step\n",
      "283/283 [==============================] - 2s 7ms/step\n",
      "283/283 [==============================] - 2s 8ms/step\n"
     ]
    }
   ],
   "source": [
    "from deeplcretrainer import retrain\n",
    "\n",
    "models = [\n",
    "    \"models/full_hc_mod_deeplc_train_filtered_1fd8363d9af9dcad3be7553c39396960.hdf5\",\n",
    "    \"models/full_hc_mod_deeplc_train_filtered_8c22d89667368f2f02ad996469ba157e.hdf5\",\n",
    "    \"models/full_hc_mod_deeplc_train_filtered_cb975cfdd4105f97efa0b3afffe075cc.hdf5\"\n",
    "]\n",
    "\n",
    "retrain(\n",
    "    datasets=[\"temp/pos_iso_train.csv\"],\n",
    "    mods_transfer_learning=models,\n",
    "    n_epochs=5,\n",
    "    batch_size=128,\n",
    "    ratio_test=0.9,\n",
    "    ratio_valid=0.95,\n",
    "    freeze_layers=False,\n",
    "    outpath=\"temp/\"\n",
    ")"
   ]
  },
  {
   "cell_type": "code",
   "execution_count": 5,
   "id": "d3c545db",
   "metadata": {},
   "outputs": [],
   "source": [
    "trained_models = []\n",
    "for f in os.listdir(\"./\"):\n",
    "    if f.endswith(\".hdf5\"):\n",
    "        trained_models.append(f)"
   ]
  },
  {
   "cell_type": "markdown",
   "id": "d1d6da1f",
   "metadata": {},
   "source": [
    "reset config TF"
   ]
  },
  {
   "cell_type": "code",
   "execution_count": 6,
   "id": "4cabf2b5",
   "metadata": {},
   "outputs": [],
   "source": [
    "import tensorflow as tf\n",
    "from tensorflow.python.eager import context\n",
    "\n",
    "_ = tf.Variable([1])\n",
    "context._context = None\n",
    "context._create_context()\n",
    "tf.config.threading.set_inter_op_parallelism_threads(1)"
   ]
  },
  {
   "cell_type": "code",
   "execution_count": 181,
   "id": "ba19be39",
   "metadata": {
    "scrolled": true
   },
   "outputs": [
    {
     "name": "stdout",
     "output_type": "stream",
     "text": [
      "5/5 [==============================] - 2s 352ms/step\n",
      "5/5 [==============================] - 2s 334ms/step\n",
      "5/5 [==============================] - 1s 121ms/step\n",
      "4/4 [==============================] - 1s 179ms/step\n"
     ]
    },
    {
     "name": "stderr",
     "output_type": "stream",
     "text": [
      "C:\\Users\\robbin\\anaconda3\\envs\\py310\\lib\\site-packages\\pygam\\utils.py:113: UserWarning: Expected 2D input data array, but found 1D. Expanding to 2D.\n",
      "  warnings.warn(msg)\n",
      "C:\\Users\\robbin\\anaconda3\\envs\\py310\\lib\\site-packages\\pygam\\utils.py:78: UserWarning: Could not import Scikit-Sparse or Suite-Sparse.\n",
      "This will slow down optimization for models with monotonicity/convexity penalties and many splines.\n",
      "See installation instructions for installing Scikit-Sparse and Suite-Sparse via Conda.\n",
      "  warnings.warn(msg)\n"
     ]
    },
    {
     "name": "stdout",
     "output_type": "stream",
     "text": [
      "5/5 [==============================] - 1s 124ms/step\n"
     ]
    },
    {
     "name": "stderr",
     "output_type": "stream",
     "text": [
      "C:\\Users\\robbin\\anaconda3\\envs\\py310\\lib\\site-packages\\pygam\\utils.py:113: UserWarning: Expected 2D input data array, but found 1D. Expanding to 2D.\n",
      "  warnings.warn(msg)\n"
     ]
    },
    {
     "name": "stdout",
     "output_type": "stream",
     "text": [
      "5/5 [==============================] - 1s 124ms/step\n"
     ]
    },
    {
     "name": "stderr",
     "output_type": "stream",
     "text": [
      "C:\\Users\\robbin\\anaconda3\\envs\\py310\\lib\\site-packages\\pygam\\utils.py:113: UserWarning: Expected 2D input data array, but found 1D. Expanding to 2D.\n",
      "  warnings.warn(msg)\n"
     ]
    },
    {
     "name": "stdout",
     "output_type": "stream",
     "text": [
      "5/5 [==============================] - 1s 123ms/step\n"
     ]
    },
    {
     "name": "stderr",
     "output_type": "stream",
     "text": [
      "C:\\Users\\robbin\\anaconda3\\envs\\py310\\lib\\site-packages\\pygam\\utils.py:113: UserWarning: Expected 2D input data array, but found 1D. Expanding to 2D.\n",
      "  warnings.warn(msg)\n"
     ]
    },
    {
     "name": "stdout",
     "output_type": "stream",
     "text": [
      "4/4 [==============================] - 1s 124ms/step\n"
     ]
    },
    {
     "name": "stderr",
     "output_type": "stream",
     "text": [
      "C:\\Users\\robbin\\anaconda3\\envs\\py310\\lib\\site-packages\\pygam\\utils.py:113: UserWarning: Expected 2D input data array, but found 1D. Expanding to 2D.\n",
      "  warnings.warn(msg)\n"
     ]
    },
    {
     "name": "stdout",
     "output_type": "stream",
     "text": [
      "5/5 [==============================] - 1s 150ms/step\n",
      "5/5 [==============================] - 1s 148ms/step\n",
      "5/5 [==============================] - 1s 96ms/step\n",
      "4/4 [==============================] - 1s 129ms/step\n"
     ]
    },
    {
     "name": "stderr",
     "output_type": "stream",
     "text": [
      "C:\\Users\\robbin\\anaconda3\\envs\\py310\\lib\\site-packages\\pygam\\utils.py:113: UserWarning: Expected 2D input data array, but found 1D. Expanding to 2D.\n",
      "  warnings.warn(msg)\n",
      "C:\\Users\\robbin\\anaconda3\\envs\\py310\\lib\\site-packages\\pygam\\utils.py:78: UserWarning: Could not import Scikit-Sparse or Suite-Sparse.\n",
      "This will slow down optimization for models with monotonicity/convexity penalties and many splines.\n",
      "See installation instructions for installing Scikit-Sparse and Suite-Sparse via Conda.\n",
      "  warnings.warn(msg)\n"
     ]
    },
    {
     "name": "stdout",
     "output_type": "stream",
     "text": [
      "5/5 [==============================] - 1s 93ms/step\n"
     ]
    },
    {
     "name": "stderr",
     "output_type": "stream",
     "text": [
      "C:\\Users\\robbin\\anaconda3\\envs\\py310\\lib\\site-packages\\pygam\\utils.py:113: UserWarning: Expected 2D input data array, but found 1D. Expanding to 2D.\n",
      "  warnings.warn(msg)\n"
     ]
    },
    {
     "name": "stdout",
     "output_type": "stream",
     "text": [
      "5/5 [==============================] - 1s 96ms/step\n"
     ]
    },
    {
     "name": "stderr",
     "output_type": "stream",
     "text": [
      "C:\\Users\\robbin\\anaconda3\\envs\\py310\\lib\\site-packages\\pygam\\utils.py:113: UserWarning: Expected 2D input data array, but found 1D. Expanding to 2D.\n",
      "  warnings.warn(msg)\n"
     ]
    },
    {
     "name": "stdout",
     "output_type": "stream",
     "text": [
      "5/5 [==============================] - 1s 96ms/step\n"
     ]
    },
    {
     "name": "stderr",
     "output_type": "stream",
     "text": [
      "C:\\Users\\robbin\\anaconda3\\envs\\py310\\lib\\site-packages\\pygam\\utils.py:113: UserWarning: Expected 2D input data array, but found 1D. Expanding to 2D.\n",
      "  warnings.warn(msg)\n"
     ]
    },
    {
     "name": "stdout",
     "output_type": "stream",
     "text": [
      "4/4 [==============================] - 1s 96ms/step\n"
     ]
    },
    {
     "name": "stderr",
     "output_type": "stream",
     "text": [
      "C:\\Users\\robbin\\anaconda3\\envs\\py310\\lib\\site-packages\\pygam\\utils.py:113: UserWarning: Expected 2D input data array, but found 1D. Expanding to 2D.\n",
      "  warnings.warn(msg)\n"
     ]
    },
    {
     "name": "stdout",
     "output_type": "stream",
     "text": [
      "5/5 [==============================] - 1s 228ms/step\n",
      "5/5 [==============================] - 1s 227ms/step\n",
      "5/5 [==============================] - 1s 115ms/step\n",
      "4/4 [==============================] - 1s 176ms/step\n"
     ]
    },
    {
     "name": "stderr",
     "output_type": "stream",
     "text": [
      "C:\\Users\\robbin\\anaconda3\\envs\\py310\\lib\\site-packages\\pygam\\utils.py:113: UserWarning: Expected 2D input data array, but found 1D. Expanding to 2D.\n",
      "  warnings.warn(msg)\n",
      "C:\\Users\\robbin\\anaconda3\\envs\\py310\\lib\\site-packages\\pygam\\utils.py:78: UserWarning: Could not import Scikit-Sparse or Suite-Sparse.\n",
      "This will slow down optimization for models with monotonicity/convexity penalties and many splines.\n",
      "See installation instructions for installing Scikit-Sparse and Suite-Sparse via Conda.\n",
      "  warnings.warn(msg)\n"
     ]
    },
    {
     "name": "stdout",
     "output_type": "stream",
     "text": [
      "5/5 [==============================] - 1s 113ms/step\n"
     ]
    },
    {
     "name": "stderr",
     "output_type": "stream",
     "text": [
      "C:\\Users\\robbin\\anaconda3\\envs\\py310\\lib\\site-packages\\pygam\\utils.py:113: UserWarning: Expected 2D input data array, but found 1D. Expanding to 2D.\n",
      "  warnings.warn(msg)\n"
     ]
    },
    {
     "name": "stdout",
     "output_type": "stream",
     "text": [
      "5/5 [==============================] - 1s 111ms/step\n"
     ]
    },
    {
     "name": "stderr",
     "output_type": "stream",
     "text": [
      "C:\\Users\\robbin\\anaconda3\\envs\\py310\\lib\\site-packages\\pygam\\utils.py:113: UserWarning: Expected 2D input data array, but found 1D. Expanding to 2D.\n",
      "  warnings.warn(msg)\n"
     ]
    },
    {
     "name": "stdout",
     "output_type": "stream",
     "text": [
      "5/5 [==============================] - 1s 115ms/step\n"
     ]
    },
    {
     "name": "stderr",
     "output_type": "stream",
     "text": [
      "C:\\Users\\robbin\\anaconda3\\envs\\py310\\lib\\site-packages\\pygam\\utils.py:113: UserWarning: Expected 2D input data array, but found 1D. Expanding to 2D.\n",
      "  warnings.warn(msg)\n"
     ]
    },
    {
     "name": "stdout",
     "output_type": "stream",
     "text": [
      "4/4 [==============================] - 1s 111ms/step\n"
     ]
    },
    {
     "name": "stderr",
     "output_type": "stream",
     "text": [
      "C:\\Users\\robbin\\anaconda3\\envs\\py310\\lib\\site-packages\\pygam\\utils.py:113: UserWarning: Expected 2D input data array, but found 1D. Expanding to 2D.\n",
      "  warnings.warn(msg)\n"
     ]
    },
    {
     "name": "stdout",
     "output_type": "stream",
     "text": [
      "5/5 [==============================] - 1s 113ms/step\n",
      "5/5 [==============================] - 1s 112ms/step\n",
      "5/5 [==============================] - 1s 120ms/step\n",
      "4/4 [==============================] - 1s 110ms/step\n"
     ]
    },
    {
     "name": "stderr",
     "output_type": "stream",
     "text": [
      "C:\\Users\\robbin\\anaconda3\\envs\\py310\\lib\\site-packages\\pygam\\utils.py:113: UserWarning: Expected 2D input data array, but found 1D. Expanding to 2D.\n",
      "  warnings.warn(msg)\n",
      "C:\\Users\\robbin\\anaconda3\\envs\\py310\\lib\\site-packages\\pygam\\utils.py:78: UserWarning: Could not import Scikit-Sparse or Suite-Sparse.\n",
      "This will slow down optimization for models with monotonicity/convexity penalties and many splines.\n",
      "See installation instructions for installing Scikit-Sparse and Suite-Sparse via Conda.\n",
      "  warnings.warn(msg)\n"
     ]
    },
    {
     "name": "stdout",
     "output_type": "stream",
     "text": [
      "5/5 [==============================] - 1s 119ms/step\n"
     ]
    },
    {
     "name": "stderr",
     "output_type": "stream",
     "text": [
      "C:\\Users\\robbin\\anaconda3\\envs\\py310\\lib\\site-packages\\pygam\\utils.py:113: UserWarning: Expected 2D input data array, but found 1D. Expanding to 2D.\n",
      "  warnings.warn(msg)\n"
     ]
    },
    {
     "name": "stdout",
     "output_type": "stream",
     "text": [
      "5/5 [==============================] - 1s 113ms/step\n"
     ]
    },
    {
     "name": "stderr",
     "output_type": "stream",
     "text": [
      "C:\\Users\\robbin\\anaconda3\\envs\\py310\\lib\\site-packages\\pygam\\utils.py:113: UserWarning: Expected 2D input data array, but found 1D. Expanding to 2D.\n",
      "  warnings.warn(msg)\n"
     ]
    },
    {
     "name": "stdout",
     "output_type": "stream",
     "text": [
      "5/5 [==============================] - 1s 110ms/step\n"
     ]
    },
    {
     "name": "stderr",
     "output_type": "stream",
     "text": [
      "C:\\Users\\robbin\\anaconda3\\envs\\py310\\lib\\site-packages\\pygam\\utils.py:113: UserWarning: Expected 2D input data array, but found 1D. Expanding to 2D.\n",
      "  warnings.warn(msg)\n"
     ]
    },
    {
     "name": "stdout",
     "output_type": "stream",
     "text": [
      "4/4 [==============================] - 1s 115ms/step\n"
     ]
    },
    {
     "name": "stderr",
     "output_type": "stream",
     "text": [
      "C:\\Users\\robbin\\anaconda3\\envs\\py310\\lib\\site-packages\\pygam\\utils.py:113: UserWarning: Expected 2D input data array, but found 1D. Expanding to 2D.\n",
      "  warnings.warn(msg)\n"
     ]
    }
   ],
   "source": [
    "import os\n",
    "os.environ['CUDA_VISIBLE_DEVICES'] = '-1'\n",
    "\n",
    "df = pd.read_csv(\"temp/pos_iso_eval.csv\",index_col=0)\n",
    "df.fillna(\"\",inplace=True)\n",
    "\n",
    "df_train = pd.read_csv(\"temp/pos_iso_train.csv\",index_col=0)\n",
    "df_train.fillna(\"\",inplace=True)\n",
    "\n",
    "dlc = deeplc.DeepLC(\n",
    "    path_model=trained_models,\n",
    "    cnn_model=True,\n",
    "    pygam_calibration=True,\n",
    "    verbose=True,\n",
    "    batch_num=25000\n",
    ")\n",
    "\n",
    "dlc.calibrate_preds(seq_df=df_train)"
   ]
  },
  {
   "cell_type": "code",
   "execution_count": 38,
   "id": "4f0eb541",
   "metadata": {},
   "outputs": [
    {
     "name": "stdout",
     "output_type": "stream",
     "text": [
      "5/5 [==============================] - 1s 111ms/step\n"
     ]
    },
    {
     "name": "stderr",
     "output_type": "stream",
     "text": [
      "C:\\Users\\robbin\\anaconda3\\envs\\py310\\lib\\site-packages\\pygam\\utils.py:113: UserWarning: Expected 2D input data array, but found 1D. Expanding to 2D.\n",
      "  warnings.warn(msg)\n"
     ]
    }
   ],
   "source": [
    "preds_cal = dlc.make_preds(seq_df=df)"
   ]
  },
  {
   "cell_type": "code",
   "execution_count": 105,
   "id": "606a1acc",
   "metadata": {
    "scrolled": true
   },
   "outputs": [
    {
     "name": "stdout",
     "output_type": "stream",
     "text": [
      "5/5 [==============================] - 1s 114ms/step\n"
     ]
    },
    {
     "name": "stderr",
     "output_type": "stream",
     "text": [
      "C:\\Users\\robbin\\anaconda3\\envs\\py310\\lib\\site-packages\\pygam\\utils.py:113: UserWarning: Expected 2D input data array, but found 1D. Expanding to 2D.\n",
      "  warnings.warn(msg)\n"
     ]
    },
    {
     "name": "stdout",
     "output_type": "stream",
     "text": [
      "5/5 [==============================] - 1s 114ms/step\n"
     ]
    },
    {
     "name": "stderr",
     "output_type": "stream",
     "text": [
      "C:\\Users\\robbin\\anaconda3\\envs\\py310\\lib\\site-packages\\pygam\\utils.py:113: UserWarning: Expected 2D input data array, but found 1D. Expanding to 2D.\n",
      "  warnings.warn(msg)\n"
     ]
    },
    {
     "name": "stdout",
     "output_type": "stream",
     "text": [
      "5/5 [==============================] - 1s 115ms/step\n"
     ]
    },
    {
     "name": "stderr",
     "output_type": "stream",
     "text": [
      "C:\\Users\\robbin\\anaconda3\\envs\\py310\\lib\\site-packages\\pygam\\utils.py:113: UserWarning: Expected 2D input data array, but found 1D. Expanding to 2D.\n",
      "  warnings.warn(msg)\n"
     ]
    },
    {
     "name": "stdout",
     "output_type": "stream",
     "text": [
      "5/5 [==============================] - 1s 112ms/step\n"
     ]
    },
    {
     "name": "stderr",
     "output_type": "stream",
     "text": [
      "C:\\Users\\robbin\\anaconda3\\envs\\py310\\lib\\site-packages\\pygam\\utils.py:113: UserWarning: Expected 2D input data array, but found 1D. Expanding to 2D.\n",
      "  warnings.warn(msg)\n"
     ]
    },
    {
     "name": "stdout",
     "output_type": "stream",
     "text": [
      "5/5 [==============================] - 1s 114ms/step\n"
     ]
    },
    {
     "name": "stderr",
     "output_type": "stream",
     "text": [
      "C:\\Users\\robbin\\anaconda3\\envs\\py310\\lib\\site-packages\\pygam\\utils.py:113: UserWarning: Expected 2D input data array, but found 1D. Expanding to 2D.\n",
      "  warnings.warn(msg)\n"
     ]
    },
    {
     "name": "stdout",
     "output_type": "stream",
     "text": [
      "5/5 [==============================] - 1s 115ms/step\n"
     ]
    },
    {
     "name": "stderr",
     "output_type": "stream",
     "text": [
      "C:\\Users\\robbin\\anaconda3\\envs\\py310\\lib\\site-packages\\pygam\\utils.py:113: UserWarning: Expected 2D input data array, but found 1D. Expanding to 2D.\n",
      "  warnings.warn(msg)\n"
     ]
    },
    {
     "name": "stdout",
     "output_type": "stream",
     "text": [
      "5/5 [==============================] - 1s 114ms/step\n"
     ]
    },
    {
     "name": "stderr",
     "output_type": "stream",
     "text": [
      "C:\\Users\\robbin\\anaconda3\\envs\\py310\\lib\\site-packages\\pygam\\utils.py:113: UserWarning: Expected 2D input data array, but found 1D. Expanding to 2D.\n",
      "  warnings.warn(msg)\n"
     ]
    },
    {
     "name": "stdout",
     "output_type": "stream",
     "text": [
      "5/5 [==============================] - 1s 112ms/step\n"
     ]
    },
    {
     "name": "stderr",
     "output_type": "stream",
     "text": [
      "C:\\Users\\robbin\\anaconda3\\envs\\py310\\lib\\site-packages\\pygam\\utils.py:113: UserWarning: Expected 2D input data array, but found 1D. Expanding to 2D.\n",
      "  warnings.warn(msg)\n"
     ]
    },
    {
     "name": "stdout",
     "output_type": "stream",
     "text": [
      "5/5 [==============================] - 1s 113ms/step\n"
     ]
    },
    {
     "name": "stderr",
     "output_type": "stream",
     "text": [
      "C:\\Users\\robbin\\anaconda3\\envs\\py310\\lib\\site-packages\\pygam\\utils.py:113: UserWarning: Expected 2D input data array, but found 1D. Expanding to 2D.\n",
      "  warnings.warn(msg)\n"
     ]
    },
    {
     "name": "stdout",
     "output_type": "stream",
     "text": [
      "5/5 [==============================] - 1s 112ms/step\n"
     ]
    },
    {
     "name": "stderr",
     "output_type": "stream",
     "text": [
      "C:\\Users\\robbin\\anaconda3\\envs\\py310\\lib\\site-packages\\pygam\\utils.py:113: UserWarning: Expected 2D input data array, but found 1D. Expanding to 2D.\n",
      "  warnings.warn(msg)\n"
     ]
    },
    {
     "name": "stdout",
     "output_type": "stream",
     "text": [
      "5/5 [==============================] - 1s 114ms/step\n"
     ]
    },
    {
     "name": "stderr",
     "output_type": "stream",
     "text": [
      "C:\\Users\\robbin\\anaconda3\\envs\\py310\\lib\\site-packages\\pygam\\utils.py:113: UserWarning: Expected 2D input data array, but found 1D. Expanding to 2D.\n",
      "  warnings.warn(msg)\n"
     ]
    },
    {
     "name": "stdout",
     "output_type": "stream",
     "text": [
      "5/5 [==============================] - 1s 113ms/step\n"
     ]
    },
    {
     "name": "stderr",
     "output_type": "stream",
     "text": [
      "C:\\Users\\robbin\\anaconda3\\envs\\py310\\lib\\site-packages\\pygam\\utils.py:113: UserWarning: Expected 2D input data array, but found 1D. Expanding to 2D.\n",
      "  warnings.warn(msg)\n"
     ]
    },
    {
     "name": "stdout",
     "output_type": "stream",
     "text": [
      "5/5 [==============================] - 1s 114ms/step\n"
     ]
    },
    {
     "name": "stderr",
     "output_type": "stream",
     "text": [
      "C:\\Users\\robbin\\anaconda3\\envs\\py310\\lib\\site-packages\\pygam\\utils.py:113: UserWarning: Expected 2D input data array, but found 1D. Expanding to 2D.\n",
      "  warnings.warn(msg)\n"
     ]
    },
    {
     "name": "stdout",
     "output_type": "stream",
     "text": [
      "5/5 [==============================] - 1s 111ms/step\n"
     ]
    },
    {
     "name": "stderr",
     "output_type": "stream",
     "text": [
      "C:\\Users\\robbin\\anaconda3\\envs\\py310\\lib\\site-packages\\pygam\\utils.py:113: UserWarning: Expected 2D input data array, but found 1D. Expanding to 2D.\n",
      "  warnings.warn(msg)\n"
     ]
    },
    {
     "name": "stdout",
     "output_type": "stream",
     "text": [
      "5/5 [==============================] - 1s 113ms/step\n"
     ]
    },
    {
     "name": "stderr",
     "output_type": "stream",
     "text": [
      "C:\\Users\\robbin\\anaconda3\\envs\\py310\\lib\\site-packages\\pygam\\utils.py:113: UserWarning: Expected 2D input data array, but found 1D. Expanding to 2D.\n",
      "  warnings.warn(msg)\n"
     ]
    },
    {
     "name": "stdout",
     "output_type": "stream",
     "text": [
      "5/5 [==============================] - 1s 113ms/step\n"
     ]
    },
    {
     "name": "stderr",
     "output_type": "stream",
     "text": [
      "C:\\Users\\robbin\\anaconda3\\envs\\py310\\lib\\site-packages\\pygam\\utils.py:113: UserWarning: Expected 2D input data array, but found 1D. Expanding to 2D.\n",
      "  warnings.warn(msg)\n"
     ]
    },
    {
     "name": "stdout",
     "output_type": "stream",
     "text": [
      "5/5 [==============================] - 1s 114ms/step\n"
     ]
    },
    {
     "name": "stderr",
     "output_type": "stream",
     "text": [
      "C:\\Users\\robbin\\anaconda3\\envs\\py310\\lib\\site-packages\\pygam\\utils.py:113: UserWarning: Expected 2D input data array, but found 1D. Expanding to 2D.\n",
      "  warnings.warn(msg)\n"
     ]
    },
    {
     "name": "stdout",
     "output_type": "stream",
     "text": [
      "5/5 [==============================] - 1s 114ms/step\n"
     ]
    },
    {
     "name": "stderr",
     "output_type": "stream",
     "text": [
      "C:\\Users\\robbin\\anaconda3\\envs\\py310\\lib\\site-packages\\pygam\\utils.py:113: UserWarning: Expected 2D input data array, but found 1D. Expanding to 2D.\n",
      "  warnings.warn(msg)\n"
     ]
    },
    {
     "name": "stdout",
     "output_type": "stream",
     "text": [
      "5/5 [==============================] - 1s 111ms/step\n"
     ]
    },
    {
     "name": "stderr",
     "output_type": "stream",
     "text": [
      "C:\\Users\\robbin\\anaconda3\\envs\\py310\\lib\\site-packages\\pygam\\utils.py:113: UserWarning: Expected 2D input data array, but found 1D. Expanding to 2D.\n",
      "  warnings.warn(msg)\n"
     ]
    },
    {
     "name": "stdout",
     "output_type": "stream",
     "text": [
      "5/5 [==============================] - 1s 113ms/step\n"
     ]
    },
    {
     "name": "stderr",
     "output_type": "stream",
     "text": [
      "C:\\Users\\robbin\\anaconda3\\envs\\py310\\lib\\site-packages\\pygam\\utils.py:113: UserWarning: Expected 2D input data array, but found 1D. Expanding to 2D.\n",
      "  warnings.warn(msg)\n"
     ]
    },
    {
     "name": "stdout",
     "output_type": "stream",
     "text": [
      "5/5 [==============================] - 1s 115ms/step\n"
     ]
    },
    {
     "name": "stderr",
     "output_type": "stream",
     "text": [
      "C:\\Users\\robbin\\anaconda3\\envs\\py310\\lib\\site-packages\\pygam\\utils.py:113: UserWarning: Expected 2D input data array, but found 1D. Expanding to 2D.\n",
      "  warnings.warn(msg)\n"
     ]
    },
    {
     "name": "stdout",
     "output_type": "stream",
     "text": [
      "5/5 [==============================] - 1s 111ms/step\n"
     ]
    },
    {
     "name": "stderr",
     "output_type": "stream",
     "text": [
      "C:\\Users\\robbin\\anaconda3\\envs\\py310\\lib\\site-packages\\pygam\\utils.py:113: UserWarning: Expected 2D input data array, but found 1D. Expanding to 2D.\n",
      "  warnings.warn(msg)\n"
     ]
    },
    {
     "name": "stdout",
     "output_type": "stream",
     "text": [
      "5/5 [==============================] - 1s 113ms/step\n"
     ]
    },
    {
     "name": "stderr",
     "output_type": "stream",
     "text": [
      "C:\\Users\\robbin\\anaconda3\\envs\\py310\\lib\\site-packages\\pygam\\utils.py:113: UserWarning: Expected 2D input data array, but found 1D. Expanding to 2D.\n",
      "  warnings.warn(msg)\n"
     ]
    },
    {
     "name": "stdout",
     "output_type": "stream",
     "text": [
      "5/5 [==============================] - 1s 113ms/step\n"
     ]
    },
    {
     "name": "stderr",
     "output_type": "stream",
     "text": [
      "C:\\Users\\robbin\\anaconda3\\envs\\py310\\lib\\site-packages\\pygam\\utils.py:113: UserWarning: Expected 2D input data array, but found 1D. Expanding to 2D.\n",
      "  warnings.warn(msg)\n"
     ]
    },
    {
     "name": "stdout",
     "output_type": "stream",
     "text": [
      "5/5 [==============================] - 1s 112ms/step\n"
     ]
    },
    {
     "name": "stderr",
     "output_type": "stream",
     "text": [
      "C:\\Users\\robbin\\anaconda3\\envs\\py310\\lib\\site-packages\\pygam\\utils.py:113: UserWarning: Expected 2D input data array, but found 1D. Expanding to 2D.\n",
      "  warnings.warn(msg)\n"
     ]
    },
    {
     "name": "stdout",
     "output_type": "stream",
     "text": [
      "5/5 [==============================] - 1s 113ms/step\n"
     ]
    },
    {
     "name": "stderr",
     "output_type": "stream",
     "text": [
      "C:\\Users\\robbin\\anaconda3\\envs\\py310\\lib\\site-packages\\pygam\\utils.py:113: UserWarning: Expected 2D input data array, but found 1D. Expanding to 2D.\n",
      "  warnings.warn(msg)\n"
     ]
    },
    {
     "name": "stdout",
     "output_type": "stream",
     "text": [
      "5/5 [==============================] - 1s 110ms/step\n"
     ]
    },
    {
     "name": "stderr",
     "output_type": "stream",
     "text": [
      "C:\\Users\\robbin\\anaconda3\\envs\\py310\\lib\\site-packages\\pygam\\utils.py:113: UserWarning: Expected 2D input data array, but found 1D. Expanding to 2D.\n",
      "  warnings.warn(msg)\n"
     ]
    },
    {
     "name": "stdout",
     "output_type": "stream",
     "text": [
      "5/5 [==============================] - 1s 113ms/step\n"
     ]
    },
    {
     "name": "stderr",
     "output_type": "stream",
     "text": [
      "C:\\Users\\robbin\\anaconda3\\envs\\py310\\lib\\site-packages\\pygam\\utils.py:113: UserWarning: Expected 2D input data array, but found 1D. Expanding to 2D.\n",
      "  warnings.warn(msg)\n"
     ]
    },
    {
     "name": "stdout",
     "output_type": "stream",
     "text": [
      "5/5 [==============================] - 1s 114ms/step\n"
     ]
    },
    {
     "name": "stderr",
     "output_type": "stream",
     "text": [
      "C:\\Users\\robbin\\anaconda3\\envs\\py310\\lib\\site-packages\\pygam\\utils.py:113: UserWarning: Expected 2D input data array, but found 1D. Expanding to 2D.\n",
      "  warnings.warn(msg)\n"
     ]
    },
    {
     "name": "stdout",
     "output_type": "stream",
     "text": [
      "5/5 [==============================] - 1s 113ms/step\n"
     ]
    },
    {
     "name": "stderr",
     "output_type": "stream",
     "text": [
      "C:\\Users\\robbin\\anaconda3\\envs\\py310\\lib\\site-packages\\pygam\\utils.py:113: UserWarning: Expected 2D input data array, but found 1D. Expanding to 2D.\n",
      "  warnings.warn(msg)\n"
     ]
    },
    {
     "name": "stdout",
     "output_type": "stream",
     "text": [
      "5/5 [==============================] - 1s 110ms/step\n"
     ]
    },
    {
     "name": "stderr",
     "output_type": "stream",
     "text": [
      "C:\\Users\\robbin\\anaconda3\\envs\\py310\\lib\\site-packages\\pygam\\utils.py:113: UserWarning: Expected 2D input data array, but found 1D. Expanding to 2D.\n",
      "  warnings.warn(msg)\n"
     ]
    },
    {
     "name": "stdout",
     "output_type": "stream",
     "text": [
      "5/5 [==============================] - 1s 112ms/step\n"
     ]
    },
    {
     "name": "stderr",
     "output_type": "stream",
     "text": [
      "C:\\Users\\robbin\\anaconda3\\envs\\py310\\lib\\site-packages\\pygam\\utils.py:113: UserWarning: Expected 2D input data array, but found 1D. Expanding to 2D.\n",
      "  warnings.warn(msg)\n"
     ]
    },
    {
     "name": "stdout",
     "output_type": "stream",
     "text": [
      "5/5 [==============================] - 1s 110ms/step\n"
     ]
    },
    {
     "name": "stderr",
     "output_type": "stream",
     "text": [
      "C:\\Users\\robbin\\anaconda3\\envs\\py310\\lib\\site-packages\\pygam\\utils.py:113: UserWarning: Expected 2D input data array, but found 1D. Expanding to 2D.\n",
      "  warnings.warn(msg)\n"
     ]
    },
    {
     "name": "stdout",
     "output_type": "stream",
     "text": [
      "5/5 [==============================] - 1s 112ms/step\n"
     ]
    },
    {
     "name": "stderr",
     "output_type": "stream",
     "text": [
      "C:\\Users\\robbin\\anaconda3\\envs\\py310\\lib\\site-packages\\pygam\\utils.py:113: UserWarning: Expected 2D input data array, but found 1D. Expanding to 2D.\n",
      "  warnings.warn(msg)\n"
     ]
    },
    {
     "name": "stdout",
     "output_type": "stream",
     "text": [
      "5/5 [==============================] - 1s 114ms/step\n"
     ]
    },
    {
     "name": "stderr",
     "output_type": "stream",
     "text": [
      "C:\\Users\\robbin\\anaconda3\\envs\\py310\\lib\\site-packages\\pygam\\utils.py:113: UserWarning: Expected 2D input data array, but found 1D. Expanding to 2D.\n",
      "  warnings.warn(msg)\n"
     ]
    },
    {
     "name": "stdout",
     "output_type": "stream",
     "text": [
      "5/5 [==============================] - 1s 110ms/step\n"
     ]
    },
    {
     "name": "stderr",
     "output_type": "stream",
     "text": [
      "C:\\Users\\robbin\\anaconda3\\envs\\py310\\lib\\site-packages\\pygam\\utils.py:113: UserWarning: Expected 2D input data array, but found 1D. Expanding to 2D.\n",
      "  warnings.warn(msg)\n"
     ]
    },
    {
     "name": "stdout",
     "output_type": "stream",
     "text": [
      "5/5 [==============================] - 1s 113ms/step\n"
     ]
    },
    {
     "name": "stderr",
     "output_type": "stream",
     "text": [
      "C:\\Users\\robbin\\anaconda3\\envs\\py310\\lib\\site-packages\\pygam\\utils.py:113: UserWarning: Expected 2D input data array, but found 1D. Expanding to 2D.\n",
      "  warnings.warn(msg)\n"
     ]
    },
    {
     "name": "stdout",
     "output_type": "stream",
     "text": [
      "5/5 [==============================] - 1s 132ms/step\n"
     ]
    },
    {
     "name": "stderr",
     "output_type": "stream",
     "text": [
      "C:\\Users\\robbin\\anaconda3\\envs\\py310\\lib\\site-packages\\pygam\\utils.py:113: UserWarning: Expected 2D input data array, but found 1D. Expanding to 2D.\n",
      "  warnings.warn(msg)\n"
     ]
    },
    {
     "name": "stdout",
     "output_type": "stream",
     "text": [
      "5/5 [==============================] - 1s 114ms/step\n"
     ]
    },
    {
     "name": "stderr",
     "output_type": "stream",
     "text": [
      "C:\\Users\\robbin\\anaconda3\\envs\\py310\\lib\\site-packages\\pygam\\utils.py:113: UserWarning: Expected 2D input data array, but found 1D. Expanding to 2D.\n",
      "  warnings.warn(msg)\n"
     ]
    },
    {
     "name": "stdout",
     "output_type": "stream",
     "text": [
      "5/5 [==============================] - 1s 111ms/step\n"
     ]
    },
    {
     "name": "stderr",
     "output_type": "stream",
     "text": [
      "C:\\Users\\robbin\\anaconda3\\envs\\py310\\lib\\site-packages\\pygam\\utils.py:113: UserWarning: Expected 2D input data array, but found 1D. Expanding to 2D.\n",
      "  warnings.warn(msg)\n"
     ]
    }
   ],
   "source": [
    "imp.reload(pos_switch)\n",
    "import copy\n",
    "all_aa = \"ACDEFGHIKLMNPQRSTVWY\"\n",
    "for mut in all_aa:\n",
    "    df_copy = copy.deepcopy(df)\n",
    "    preds_cal = dlc.make_preds(seq_df=df_copy)\n",
    "    df_copy[\"orig_seq\"] = df_copy[\"seq\"]\n",
    "    df_copy[[\"seq\",\"sel_pos\",\"aa_sw1\",\"aa_sw2\"]] = df_copy[\"seq\"].apply(pos_switch.mutate_aa,mutate_to=mut)\n",
    "    preds_cal_switched = dlc.make_preds(seq_df=df_copy)\n",
    "\n",
    "    df_copy[\"preds_switched\"] = preds_cal_switched\n",
    "    df_copy[\"preds\"] = preds_cal\n",
    "\n",
    "    df_copy[\"preds_error\"] = abs(df_copy[\"preds\"]-df_copy[\"tr\"])\n",
    "    df_copy[\"preds_switched_error\"] = abs(df_copy[\"preds_switched\"]-df_copy[\"tr\"])\n",
    "    \n",
    "    df_copy.to_csv(\"middle_mut_aa_%s.csv\" % (mut))"
   ]
  },
  {
   "cell_type": "code",
   "execution_count": null,
   "id": "d63a9514",
   "metadata": {},
   "outputs": [],
   "source": [
    "imp.reload(pos_switch)\n",
    "\n",
    "for num_switch in range(2,7):\n",
    "    df_copy = copy.deepcopy(df)\n",
    "    preds_cal = dlc.make_preds(seq_df=df_copy)\n",
    "    df_copy[\"orig_seq\"] = df_copy[\"seq\"]\n",
    "    df_copy[[\"seq\",\"aa_sw1\",\"aa_sw2\"]] = df_copy[\"seq\"].apply(pos_switch.switch_pos_center,rev_length=num_switch)\n",
    "    preds_cal_switched = dlc.make_preds(seq_df=df_copy)\n",
    "\n",
    "    df_copy[\"preds_switched\"] = preds_cal_switched\n",
    "    df_copy[\"preds\"] = preds_cal\n",
    "\n",
    "    df_copy[\"preds_error\"] = abs(df_copy[\"preds\"]-df_copy[\"tr\"])\n",
    "    df_copy[\"preds_switched_error\"] = abs(df_copy[\"preds_switched\"]-df_copy[\"tr\"])\n",
    "    \n",
    "    df_copy.to_csv(\"middle_switch_num_%s.csv\" % (num_switch))"
   ]
  },
  {
   "cell_type": "code",
   "execution_count": 143,
   "id": "a9e3ab3f",
   "metadata": {
    "scrolled": true
   },
   "outputs": [
    {
     "name": "stdout",
     "output_type": "stream",
     "text": [
      "5/5 [==============================] - 1s 116ms/step\n"
     ]
    },
    {
     "name": "stderr",
     "output_type": "stream",
     "text": [
      "C:\\Users\\robbin\\anaconda3\\envs\\py310\\lib\\site-packages\\pygam\\utils.py:113: UserWarning: Expected 2D input data array, but found 1D. Expanding to 2D.\n",
      "  warnings.warn(msg)\n"
     ]
    },
    {
     "name": "stdout",
     "output_type": "stream",
     "text": [
      "5/5 [==============================] - 1s 111ms/step\n"
     ]
    },
    {
     "name": "stderr",
     "output_type": "stream",
     "text": [
      "C:\\Users\\robbin\\anaconda3\\envs\\py310\\lib\\site-packages\\pygam\\utils.py:113: UserWarning: Expected 2D input data array, but found 1D. Expanding to 2D.\n",
      "  warnings.warn(msg)\n"
     ]
    },
    {
     "name": "stdout",
     "output_type": "stream",
     "text": [
      "5/5 [==============================] - 1s 112ms/step\n"
     ]
    },
    {
     "name": "stderr",
     "output_type": "stream",
     "text": [
      "C:\\Users\\robbin\\anaconda3\\envs\\py310\\lib\\site-packages\\pygam\\utils.py:113: UserWarning: Expected 2D input data array, but found 1D. Expanding to 2D.\n",
      "  warnings.warn(msg)\n"
     ]
    },
    {
     "name": "stdout",
     "output_type": "stream",
     "text": [
      "5/5 [==============================] - 1s 113ms/step\n"
     ]
    },
    {
     "name": "stderr",
     "output_type": "stream",
     "text": [
      "C:\\Users\\robbin\\anaconda3\\envs\\py310\\lib\\site-packages\\pygam\\utils.py:113: UserWarning: Expected 2D input data array, but found 1D. Expanding to 2D.\n",
      "  warnings.warn(msg)\n"
     ]
    },
    {
     "name": "stdout",
     "output_type": "stream",
     "text": [
      "5/5 [==============================] - 1s 113ms/step\n"
     ]
    },
    {
     "name": "stderr",
     "output_type": "stream",
     "text": [
      "C:\\Users\\robbin\\anaconda3\\envs\\py310\\lib\\site-packages\\pygam\\utils.py:113: UserWarning: Expected 2D input data array, but found 1D. Expanding to 2D.\n",
      "  warnings.warn(msg)\n"
     ]
    },
    {
     "name": "stdout",
     "output_type": "stream",
     "text": [
      "5/5 [==============================] - 1s 115ms/step\n"
     ]
    },
    {
     "name": "stderr",
     "output_type": "stream",
     "text": [
      "C:\\Users\\robbin\\anaconda3\\envs\\py310\\lib\\site-packages\\pygam\\utils.py:113: UserWarning: Expected 2D input data array, but found 1D. Expanding to 2D.\n",
      "  warnings.warn(msg)\n"
     ]
    },
    {
     "name": "stdout",
     "output_type": "stream",
     "text": [
      "5/5 [==============================] - 1s 113ms/step\n"
     ]
    },
    {
     "name": "stderr",
     "output_type": "stream",
     "text": [
      "C:\\Users\\robbin\\anaconda3\\envs\\py310\\lib\\site-packages\\pygam\\utils.py:113: UserWarning: Expected 2D input data array, but found 1D. Expanding to 2D.\n",
      "  warnings.warn(msg)\n"
     ]
    },
    {
     "name": "stdout",
     "output_type": "stream",
     "text": [
      "5/5 [==============================] - 1s 113ms/step\n"
     ]
    },
    {
     "name": "stderr",
     "output_type": "stream",
     "text": [
      "C:\\Users\\robbin\\anaconda3\\envs\\py310\\lib\\site-packages\\pygam\\utils.py:113: UserWarning: Expected 2D input data array, but found 1D. Expanding to 2D.\n",
      "  warnings.warn(msg)\n"
     ]
    },
    {
     "name": "stdout",
     "output_type": "stream",
     "text": [
      "5/5 [==============================] - 1s 113ms/step\n"
     ]
    },
    {
     "name": "stderr",
     "output_type": "stream",
     "text": [
      "C:\\Users\\robbin\\anaconda3\\envs\\py310\\lib\\site-packages\\pygam\\utils.py:113: UserWarning: Expected 2D input data array, but found 1D. Expanding to 2D.\n",
      "  warnings.warn(msg)\n"
     ]
    },
    {
     "name": "stdout",
     "output_type": "stream",
     "text": [
      "5/5 [==============================] - 1s 137ms/step\n"
     ]
    },
    {
     "name": "stderr",
     "output_type": "stream",
     "text": [
      "C:\\Users\\robbin\\anaconda3\\envs\\py310\\lib\\site-packages\\pygam\\utils.py:113: UserWarning: Expected 2D input data array, but found 1D. Expanding to 2D.\n",
      "  warnings.warn(msg)\n"
     ]
    }
   ],
   "source": [
    "imp.reload(pos_switch)\n",
    "\n",
    "for num_switch in range(2,7):\n",
    "    df_copy = copy.deepcopy(df)\n",
    "    preds_cal = dlc.make_preds(seq_df=df_copy)\n",
    "    df_copy[\"orig_seq\"] = df_copy[\"seq\"]\n",
    "    df_copy[[\"seq\",\"aa_sw1\",\"aa_sw2\"]] = df_copy[\"seq\"].apply(pos_switch.switch_pos_center,rev_length=num_switch,pos_switch=\"left\")\n",
    "    preds_cal_switched = dlc.make_preds(seq_df=df_copy)\n",
    "\n",
    "    df_copy[\"preds_switched\"] = preds_cal_switched\n",
    "    df_copy[\"preds\"] = preds_cal\n",
    "\n",
    "    df_copy[\"preds_error\"] = abs(df_copy[\"preds\"]-df_copy[\"tr\"])\n",
    "    df_copy[\"preds_switched_error\"] = abs(df_copy[\"preds_switched\"]-df_copy[\"tr\"])\n",
    "    \n",
    "    df_copy.to_csv(\"left_switch_num_%s.csv\" % (num_switch))"
   ]
  },
  {
   "cell_type": "code",
   "execution_count": 144,
   "id": "66d50414",
   "metadata": {
    "scrolled": true
   },
   "outputs": [
    {
     "name": "stdout",
     "output_type": "stream",
     "text": [
      "5/5 [==============================] - 1s 111ms/step\n"
     ]
    },
    {
     "name": "stderr",
     "output_type": "stream",
     "text": [
      "C:\\Users\\robbin\\anaconda3\\envs\\py310\\lib\\site-packages\\pygam\\utils.py:113: UserWarning: Expected 2D input data array, but found 1D. Expanding to 2D.\n",
      "  warnings.warn(msg)\n"
     ]
    },
    {
     "name": "stdout",
     "output_type": "stream",
     "text": [
      "5/5 [==============================] - 1s 112ms/step\n"
     ]
    },
    {
     "name": "stderr",
     "output_type": "stream",
     "text": [
      "C:\\Users\\robbin\\anaconda3\\envs\\py310\\lib\\site-packages\\pygam\\utils.py:113: UserWarning: Expected 2D input data array, but found 1D. Expanding to 2D.\n",
      "  warnings.warn(msg)\n"
     ]
    },
    {
     "name": "stdout",
     "output_type": "stream",
     "text": [
      "5/5 [==============================] - 1s 112ms/step\n"
     ]
    },
    {
     "name": "stderr",
     "output_type": "stream",
     "text": [
      "C:\\Users\\robbin\\anaconda3\\envs\\py310\\lib\\site-packages\\pygam\\utils.py:113: UserWarning: Expected 2D input data array, but found 1D. Expanding to 2D.\n",
      "  warnings.warn(msg)\n"
     ]
    },
    {
     "name": "stdout",
     "output_type": "stream",
     "text": [
      "5/5 [==============================] - 1s 113ms/step\n"
     ]
    },
    {
     "name": "stderr",
     "output_type": "stream",
     "text": [
      "C:\\Users\\robbin\\anaconda3\\envs\\py310\\lib\\site-packages\\pygam\\utils.py:113: UserWarning: Expected 2D input data array, but found 1D. Expanding to 2D.\n",
      "  warnings.warn(msg)\n"
     ]
    },
    {
     "name": "stdout",
     "output_type": "stream",
     "text": [
      "5/5 [==============================] - 1s 114ms/step\n"
     ]
    },
    {
     "name": "stderr",
     "output_type": "stream",
     "text": [
      "C:\\Users\\robbin\\anaconda3\\envs\\py310\\lib\\site-packages\\pygam\\utils.py:113: UserWarning: Expected 2D input data array, but found 1D. Expanding to 2D.\n",
      "  warnings.warn(msg)\n"
     ]
    },
    {
     "name": "stdout",
     "output_type": "stream",
     "text": [
      "5/5 [==============================] - 1s 111ms/step\n"
     ]
    },
    {
     "name": "stderr",
     "output_type": "stream",
     "text": [
      "C:\\Users\\robbin\\anaconda3\\envs\\py310\\lib\\site-packages\\pygam\\utils.py:113: UserWarning: Expected 2D input data array, but found 1D. Expanding to 2D.\n",
      "  warnings.warn(msg)\n"
     ]
    },
    {
     "name": "stdout",
     "output_type": "stream",
     "text": [
      "5/5 [==============================] - 1s 114ms/step\n"
     ]
    },
    {
     "name": "stderr",
     "output_type": "stream",
     "text": [
      "C:\\Users\\robbin\\anaconda3\\envs\\py310\\lib\\site-packages\\pygam\\utils.py:113: UserWarning: Expected 2D input data array, but found 1D. Expanding to 2D.\n",
      "  warnings.warn(msg)\n"
     ]
    },
    {
     "name": "stdout",
     "output_type": "stream",
     "text": [
      "5/5 [==============================] - 1s 114ms/step\n"
     ]
    },
    {
     "name": "stderr",
     "output_type": "stream",
     "text": [
      "C:\\Users\\robbin\\anaconda3\\envs\\py310\\lib\\site-packages\\pygam\\utils.py:113: UserWarning: Expected 2D input data array, but found 1D. Expanding to 2D.\n",
      "  warnings.warn(msg)\n"
     ]
    },
    {
     "name": "stdout",
     "output_type": "stream",
     "text": [
      "5/5 [==============================] - 1s 115ms/step\n"
     ]
    },
    {
     "name": "stderr",
     "output_type": "stream",
     "text": [
      "C:\\Users\\robbin\\anaconda3\\envs\\py310\\lib\\site-packages\\pygam\\utils.py:113: UserWarning: Expected 2D input data array, but found 1D. Expanding to 2D.\n",
      "  warnings.warn(msg)\n"
     ]
    },
    {
     "name": "stdout",
     "output_type": "stream",
     "text": [
      "5/5 [==============================] - 1s 112ms/step\n"
     ]
    },
    {
     "name": "stderr",
     "output_type": "stream",
     "text": [
      "C:\\Users\\robbin\\anaconda3\\envs\\py310\\lib\\site-packages\\pygam\\utils.py:113: UserWarning: Expected 2D input data array, but found 1D. Expanding to 2D.\n",
      "  warnings.warn(msg)\n"
     ]
    }
   ],
   "source": [
    "imp.reload(pos_switch)\n",
    "\n",
    "for num_switch in range(2,7):\n",
    "    df_copy = copy.deepcopy(df)\n",
    "    preds_cal = dlc.make_preds(seq_df=df_copy)\n",
    "    df_copy[\"orig_seq\"] = df_copy[\"seq\"]\n",
    "    df_copy[[\"seq\",\"aa_sw1\",\"aa_sw2\"]] = df_copy[\"seq\"].apply(pos_switch.switch_pos_center,rev_length=num_switch,pos_switch=\"right\")\n",
    "    preds_cal_switched = dlc.make_preds(seq_df=df_copy)\n",
    "\n",
    "    df_copy[\"preds_switched\"] = preds_cal_switched\n",
    "    df_copy[\"preds\"] = preds_cal\n",
    "\n",
    "    df_copy[\"preds_error\"] = abs(df_copy[\"preds\"]-df_copy[\"tr\"])\n",
    "    df_copy[\"preds_switched_error\"] = abs(df_copy[\"preds_switched\"]-df_copy[\"tr\"])\n",
    "    \n",
    "    df_copy.to_csv(\"right_switch_num_%s.csv\" % (num_switch))"
   ]
  },
  {
   "cell_type": "code",
   "execution_count": 275,
   "id": "a11fa400",
   "metadata": {
    "scrolled": true
   },
   "outputs": [
    {
     "name": "stdout",
     "output_type": "stream",
     "text": [
      "4/4 [==============================] - 1s 110ms/step\n"
     ]
    },
    {
     "name": "stderr",
     "output_type": "stream",
     "text": [
      "C:\\Users\\robbin\\anaconda3\\envs\\py310\\lib\\site-packages\\pygam\\utils.py:113: UserWarning: Expected 2D input data array, but found 1D. Expanding to 2D.\n",
      "  warnings.warn(msg)\n"
     ]
    },
    {
     "name": "stdout",
     "output_type": "stream",
     "text": [
      "4/4 [==============================] - 1s 112ms/step\n"
     ]
    },
    {
     "name": "stderr",
     "output_type": "stream",
     "text": [
      "C:\\Users\\robbin\\anaconda3\\envs\\py310\\lib\\site-packages\\pygam\\utils.py:113: UserWarning: Expected 2D input data array, but found 1D. Expanding to 2D.\n",
      "  warnings.warn(msg)\n"
     ]
    },
    {
     "name": "stdout",
     "output_type": "stream",
     "text": [
      "4/4 [==============================] - 1s 114ms/step\n"
     ]
    },
    {
     "name": "stderr",
     "output_type": "stream",
     "text": [
      "C:\\Users\\robbin\\anaconda3\\envs\\py310\\lib\\site-packages\\pygam\\utils.py:113: UserWarning: Expected 2D input data array, but found 1D. Expanding to 2D.\n",
      "  warnings.warn(msg)\n"
     ]
    },
    {
     "name": "stdout",
     "output_type": "stream",
     "text": [
      "4/4 [==============================] - 1s 113ms/step\n"
     ]
    },
    {
     "name": "stderr",
     "output_type": "stream",
     "text": [
      "C:\\Users\\robbin\\anaconda3\\envs\\py310\\lib\\site-packages\\pygam\\utils.py:113: UserWarning: Expected 2D input data array, but found 1D. Expanding to 2D.\n",
      "  warnings.warn(msg)\n"
     ]
    },
    {
     "name": "stdout",
     "output_type": "stream",
     "text": [
      "4/4 [==============================] - 1s 115ms/step\n"
     ]
    },
    {
     "name": "stderr",
     "output_type": "stream",
     "text": [
      "C:\\Users\\robbin\\anaconda3\\envs\\py310\\lib\\site-packages\\pygam\\utils.py:113: UserWarning: Expected 2D input data array, but found 1D. Expanding to 2D.\n",
      "  warnings.warn(msg)\n"
     ]
    },
    {
     "name": "stdout",
     "output_type": "stream",
     "text": [
      "4/4 [==============================] - 1s 113ms/step\n"
     ]
    },
    {
     "name": "stderr",
     "output_type": "stream",
     "text": [
      "C:\\Users\\robbin\\anaconda3\\envs\\py310\\lib\\site-packages\\pygam\\utils.py:113: UserWarning: Expected 2D input data array, but found 1D. Expanding to 2D.\n",
      "  warnings.warn(msg)\n"
     ]
    },
    {
     "name": "stdout",
     "output_type": "stream",
     "text": [
      "4/4 [==============================] - 1s 115ms/step\n"
     ]
    },
    {
     "name": "stderr",
     "output_type": "stream",
     "text": [
      "C:\\Users\\robbin\\anaconda3\\envs\\py310\\lib\\site-packages\\pygam\\utils.py:113: UserWarning: Expected 2D input data array, but found 1D. Expanding to 2D.\n",
      "  warnings.warn(msg)\n"
     ]
    },
    {
     "name": "stdout",
     "output_type": "stream",
     "text": [
      "4/4 [==============================] - 1s 114ms/step\n"
     ]
    },
    {
     "name": "stderr",
     "output_type": "stream",
     "text": [
      "C:\\Users\\robbin\\anaconda3\\envs\\py310\\lib\\site-packages\\pygam\\utils.py:113: UserWarning: Expected 2D input data array, but found 1D. Expanding to 2D.\n",
      "  warnings.warn(msg)\n"
     ]
    },
    {
     "name": "stdout",
     "output_type": "stream",
     "text": [
      "4/4 [==============================] - 1s 113ms/step\n"
     ]
    },
    {
     "name": "stderr",
     "output_type": "stream",
     "text": [
      "C:\\Users\\robbin\\anaconda3\\envs\\py310\\lib\\site-packages\\pygam\\utils.py:113: UserWarning: Expected 2D input data array, but found 1D. Expanding to 2D.\n",
      "  warnings.warn(msg)\n"
     ]
    },
    {
     "name": "stdout",
     "output_type": "stream",
     "text": [
      "4/4 [==============================] - 1s 115ms/step\n"
     ]
    },
    {
     "name": "stderr",
     "output_type": "stream",
     "text": [
      "C:\\Users\\robbin\\anaconda3\\envs\\py310\\lib\\site-packages\\pygam\\utils.py:113: UserWarning: Expected 2D input data array, but found 1D. Expanding to 2D.\n",
      "  warnings.warn(msg)\n"
     ]
    },
    {
     "name": "stdout",
     "output_type": "stream",
     "text": [
      "4/4 [==============================] - 1s 114ms/step\n"
     ]
    },
    {
     "name": "stderr",
     "output_type": "stream",
     "text": [
      "C:\\Users\\robbin\\anaconda3\\envs\\py310\\lib\\site-packages\\pygam\\utils.py:113: UserWarning: Expected 2D input data array, but found 1D. Expanding to 2D.\n",
      "  warnings.warn(msg)\n"
     ]
    },
    {
     "name": "stdout",
     "output_type": "stream",
     "text": [
      "4/4 [==============================] - 1s 113ms/step\n"
     ]
    },
    {
     "name": "stderr",
     "output_type": "stream",
     "text": [
      "C:\\Users\\robbin\\anaconda3\\envs\\py310\\lib\\site-packages\\pygam\\utils.py:113: UserWarning: Expected 2D input data array, but found 1D. Expanding to 2D.\n",
      "  warnings.warn(msg)\n"
     ]
    },
    {
     "name": "stdout",
     "output_type": "stream",
     "text": [
      "4/4 [==============================] - 1s 112ms/step\n"
     ]
    },
    {
     "name": "stderr",
     "output_type": "stream",
     "text": [
      "C:\\Users\\robbin\\anaconda3\\envs\\py310\\lib\\site-packages\\pygam\\utils.py:113: UserWarning: Expected 2D input data array, but found 1D. Expanding to 2D.\n",
      "  warnings.warn(msg)\n"
     ]
    },
    {
     "name": "stdout",
     "output_type": "stream",
     "text": [
      "4/4 [==============================] - 1s 114ms/step\n"
     ]
    },
    {
     "name": "stderr",
     "output_type": "stream",
     "text": [
      "C:\\Users\\robbin\\anaconda3\\envs\\py310\\lib\\site-packages\\pygam\\utils.py:113: UserWarning: Expected 2D input data array, but found 1D. Expanding to 2D.\n",
      "  warnings.warn(msg)\n"
     ]
    },
    {
     "name": "stdout",
     "output_type": "stream",
     "text": [
      "4/4 [==============================] - 1s 117ms/step\n"
     ]
    },
    {
     "name": "stderr",
     "output_type": "stream",
     "text": [
      "C:\\Users\\robbin\\anaconda3\\envs\\py310\\lib\\site-packages\\pygam\\utils.py:113: UserWarning: Expected 2D input data array, but found 1D. Expanding to 2D.\n",
      "  warnings.warn(msg)\n"
     ]
    },
    {
     "name": "stdout",
     "output_type": "stream",
     "text": [
      "4/4 [==============================] - 1s 112ms/step\n"
     ]
    },
    {
     "name": "stderr",
     "output_type": "stream",
     "text": [
      "C:\\Users\\robbin\\anaconda3\\envs\\py310\\lib\\site-packages\\pygam\\utils.py:113: UserWarning: Expected 2D input data array, but found 1D. Expanding to 2D.\n",
      "  warnings.warn(msg)\n"
     ]
    },
    {
     "name": "stdout",
     "output_type": "stream",
     "text": [
      "4/4 [==============================] - 1s 112ms/step\n"
     ]
    },
    {
     "name": "stderr",
     "output_type": "stream",
     "text": [
      "C:\\Users\\robbin\\anaconda3\\envs\\py310\\lib\\site-packages\\pygam\\utils.py:113: UserWarning: Expected 2D input data array, but found 1D. Expanding to 2D.\n",
      "  warnings.warn(msg)\n"
     ]
    },
    {
     "name": "stdout",
     "output_type": "stream",
     "text": [
      "4/4 [==============================] - 1s 110ms/step\n"
     ]
    },
    {
     "name": "stderr",
     "output_type": "stream",
     "text": [
      "C:\\Users\\robbin\\anaconda3\\envs\\py310\\lib\\site-packages\\pygam\\utils.py:113: UserWarning: Expected 2D input data array, but found 1D. Expanding to 2D.\n",
      "  warnings.warn(msg)\n"
     ]
    },
    {
     "name": "stdout",
     "output_type": "stream",
     "text": [
      "4/4 [==============================] - 1s 113ms/step\n"
     ]
    },
    {
     "name": "stderr",
     "output_type": "stream",
     "text": [
      "C:\\Users\\robbin\\anaconda3\\envs\\py310\\lib\\site-packages\\pygam\\utils.py:113: UserWarning: Expected 2D input data array, but found 1D. Expanding to 2D.\n",
      "  warnings.warn(msg)\n"
     ]
    },
    {
     "name": "stdout",
     "output_type": "stream",
     "text": [
      "4/4 [==============================] - 1s 115ms/step\n"
     ]
    },
    {
     "name": "stderr",
     "output_type": "stream",
     "text": [
      "C:\\Users\\robbin\\anaconda3\\envs\\py310\\lib\\site-packages\\pygam\\utils.py:113: UserWarning: Expected 2D input data array, but found 1D. Expanding to 2D.\n",
      "  warnings.warn(msg)\n"
     ]
    },
    {
     "name": "stdout",
     "output_type": "stream",
     "text": [
      "4/4 [==============================] - 1s 112ms/step\n"
     ]
    },
    {
     "name": "stderr",
     "output_type": "stream",
     "text": [
      "C:\\Users\\robbin\\anaconda3\\envs\\py310\\lib\\site-packages\\pygam\\utils.py:113: UserWarning: Expected 2D input data array, but found 1D. Expanding to 2D.\n",
      "  warnings.warn(msg)\n"
     ]
    },
    {
     "name": "stdout",
     "output_type": "stream",
     "text": [
      "4/4 [==============================] - 1s 111ms/step\n"
     ]
    },
    {
     "name": "stderr",
     "output_type": "stream",
     "text": [
      "C:\\Users\\robbin\\anaconda3\\envs\\py310\\lib\\site-packages\\pygam\\utils.py:113: UserWarning: Expected 2D input data array, but found 1D. Expanding to 2D.\n",
      "  warnings.warn(msg)\n"
     ]
    }
   ],
   "source": [
    "imp.reload(pos_switch)\n",
    "import math\n",
    "from itertools import permutations\n",
    "from tqdm import tqdm\n",
    "\n",
    "def get_all_combs(row,rev_length=2,pos_switch=\"middle\"):\n",
    "    seq = row[\"seq\"]\n",
    "    \n",
    "    if pos_switch == \"middle\":\n",
    "        sel_pos = int(len(seq)/2)\n",
    "    if pos_switch == \"left\":\n",
    "        sel_pos = int(int(len(seq)/2)/2)\n",
    "    if pos_switch == \"right\":\n",
    "        sel_pos = int(len(seq)/2)+int(int(len(seq)/2)/2)\n",
    "    \n",
    "    sel_seq = seq[sel_pos-math.ceil(rev_length/2)+1:sel_pos+int(rev_length/2)+1]\n",
    "    \n",
    "    all_combs = [\"\".join(v) for v in permutations(sel_seq,rev_length)]\n",
    "\n",
    "    ret_dict = {}\n",
    "    for idx,v in enumerate(all_combs):\n",
    "        new_seq = seq[:sel_pos-math.ceil(rev_length/2)+1]+v+seq[sel_pos+int(rev_length/2)+1:]\n",
    "        if v == sel_seq:\n",
    "            ret_dict[idx] = {\"seq\":new_seq,\n",
    "                             \"modifications\":row[\"modifications\"],\n",
    "                             \"orig_seq\": seq+str(row[\"modifications\"]),\n",
    "                             \"aa_sw1\":sel_seq,\n",
    "                             \"aa_sw2\":v,\n",
    "                             \"tr\":row[\"tr\"],\n",
    "                             \"decoy\":0}\n",
    "            continue\n",
    "        ret_dict[idx] = {\"seq\":new_seq,\n",
    "                         \"modifications\":row[\"modifications\"],\n",
    "                         \"orig_seq\": seq+str(row[\"modifications\"]),\n",
    "                         \"aa_sw1\":sel_seq,\n",
    "                         \"aa_sw2\":v,\n",
    "                         \"tr\":row[\"tr\"],\n",
    "                         \"decoy\":1}\n",
    "\n",
    "    return pd.DataFrame(ret_dict).T\n",
    "\n",
    "for num_switch in range(4,5):\n",
    "    df_copy = copy.deepcopy(df)\n",
    "    #preds_cal = dlc.make_preds(seq_df=df_copy)\n",
    "    #df_copy[\"orig_seq\"] = df_copy[\"seq\"]\n",
    "    \n",
    "    all_df = []\n",
    "    for idx,row in df_copy.iterrows():\n",
    "        all_df.append(get_all_combs(row,rev_length=num_switch))\n",
    "    all_df = pd.concat(all_df).reset_index(drop=True)\n",
    "    preds_cal = dlc.make_preds(seq_df=all_df)\n",
    "    break\n",
    "    #print(df_copy[\"seq\"].apply(get_all_combs,rev_length=num_switch))"
   ]
  },
  {
   "cell_type": "code",
   "execution_count": 276,
   "id": "564b8772",
   "metadata": {},
   "outputs": [],
   "source": [
    "all_df[\"predictions\"] = preds_cal"
   ]
  },
  {
   "cell_type": "code",
   "execution_count": 277,
   "id": "93d816da",
   "metadata": {},
   "outputs": [],
   "source": [
    "all_df[\"abs_error\"] = abs(all_df[\"tr\"] - all_df[\"predictions\"])"
   ]
  },
  {
   "cell_type": "code",
   "execution_count": 278,
   "id": "22ea3d5d",
   "metadata": {
    "scrolled": true
   },
   "outputs": [
    {
     "name": "stderr",
     "output_type": "stream",
     "text": [
      "100%|██████████████████████████████████████████████████████████████████████████████████████████████████████████████████████████████████████████████████████████████████████████████████████████████████████████████████████████████████████████████| 22734/22734 [13:43<00:00, 27.60it/s]\n"
     ]
    }
   ],
   "source": [
    "all_ranks = []\n",
    "\n",
    "for s in tqdm(set(all_df[\"orig_seq\"])):\n",
    "    subsel = deepcopy(all_df[all_df[\"orig_seq\"] == s])\n",
    "    subsel.sort_values(\"abs_error\",inplace=True)\n",
    "    subsel.loc[subsel.index,\"rank\"] = list(range(1,len(subsel)+1))\n",
    "    try:\n",
    "        all_ranks.append(int(subsel.loc[subsel[\"decoy\"] == 0,\"rank\"]))\n",
    "    except:\n",
    "        all_ranks.append(int(subsel.loc[subsel[\"decoy\"] == 0,\"rank\"].iloc[0]))\n"
   ]
  },
  {
   "cell_type": "code",
   "execution_count": 409,
   "id": "513b25e6",
   "metadata": {},
   "outputs": [],
   "source": [
    "count_ranks = Counter(all_ranks)\n",
    "all_count = sum(count_ranks.values())\n",
    "prev = 0.0\n",
    "cummulative = []\n",
    "for i in range(1,24):\n",
    "    cummulative.append(((count_ranks[i]/all_count)+prev)*100)\n",
    "    prev = (count_ranks[i]/all_count)+prev"
   ]
  },
  {
   "cell_type": "code",
   "execution_count": 415,
   "id": "0f19c99b",
   "metadata": {},
   "outputs": [
    {
     "data": {
      "image/png": "[encoded data removed]",
      "text/plain": [
       "<Figure size 640x480 with 1 Axes>"
      ]
     },
     "metadata": {},
     "output_type": "display_data"
    }
   ],
   "source": [
    "plt.plot(range(1,24),cummulative,label=\"Rank predicted retention time error\")\n",
    "plt.plot(range(1,24),[(v*(1/24))*100 for v in range(1,24)],label=\"Random rank assignment\")\n",
    "\n",
    "plt.xlabel(\"Rank\")\n",
    "plt.ylabel(\"Cummulative percentage correct (%)\")\n",
    "plt.legend()\n",
    "plt.tight_layout()\n",
    "plt.savefig(\"figs/rank_eval.svg\")\n",
    "plt.show()"
   ]
  },
  {
   "cell_type": "code",
   "execution_count": null,
   "id": "161b82f6",
   "metadata": {},
   "outputs": [],
   "source": [
    "better_swap = sum(df[\"preds_error\"]>df[\"preds_switched_error\"])\n",
    "better_orig = sum(df[\"preds_error\"]<df[\"preds_switched_error\"])\n",
    "total = better_orig+better_swap"
   ]
  },
  {
   "cell_type": "markdown",
   "id": "7df03737",
   "metadata": {},
   "source": [
    "# Start plotting!"
   ]
  },
  {
   "cell_type": "code",
   "execution_count": 145,
   "id": "dcf026f1",
   "metadata": {},
   "outputs": [],
   "source": [
    "# Seems something in the retrainer messes up the matplotlib backend? Re-init.\n",
    "%matplotlib inline"
   ]
  },
  {
   "cell_type": "code",
   "execution_count": 356,
   "id": "ec5dab65",
   "metadata": {},
   "outputs": [],
   "source": [
    "elution_length = abs(-65-max(df_train[\"tr\"]))\n",
    "min_tr = -65\n",
    "max_tr = max(df_train[\"tr\"])"
   ]
  },
  {
   "cell_type": "code",
   "execution_count": 357,
   "id": "96254b33",
   "metadata": {},
   "outputs": [],
   "source": [
    "all_dfs = []\n",
    "all_dfs_left = []\n",
    "all_dfs_right = []\n",
    "\n",
    "for f in os.listdir(\".\"):\n",
    "    if not f.endswith(\".csv\"):\n",
    "        continue\n",
    "    if not \"middle_switch\" in f:\n",
    "        continue\n",
    "    all_dfs.append(pd.read_csv(f,dtype={\"aa_sw1\":str}).fillna(\"\"))\n",
    "    \n",
    "for f in os.listdir(\".\"):\n",
    "    if not f.endswith(\".csv\"):\n",
    "        continue\n",
    "    if not \"left_switch\" in f:\n",
    "        continue\n",
    "    all_dfs_left.append(pd.read_csv(f,dtype={\"aa_sw1\":str}).fillna(\"\"))\n",
    "\n",
    "for f in os.listdir(\".\"):\n",
    "    if not f.endswith(\".csv\"):\n",
    "        continue\n",
    "    if not \"right_switch\" in f:\n",
    "        continue\n",
    "    all_dfs_right.append(pd.read_csv(f,dtype={\"aa_sw1\":str}).fillna(\"\"))\n",
    "    \n",
    "dfs = pd.concat(all_dfs)\n",
    "dfs_left = pd.concat(all_dfs_left)\n",
    "dfs_right = pd.concat(all_dfs_right)"
   ]
  },
  {
   "cell_type": "code",
   "execution_count": 358,
   "id": "c095ab6a",
   "metadata": {},
   "outputs": [],
   "source": [
    "dfs[\"len_switch\"] = dfs[\"aa_sw1\"].apply(len)\n",
    "dfs_left[\"len_switch\"] = dfs_left[\"aa_sw1\"].apply(len)\n",
    "dfs_right[\"len_switch\"] = dfs_right[\"aa_sw1\"].apply(len)\n",
    "dfs_right[\"len_seq\"] = dfs_right[\"seq\"].apply(len)\n",
    "dfs_left[\"len_seq\"] = dfs_right[\"seq\"].apply(len)\n",
    "dfs[\"len_seq\"] = dfs[\"seq\"].apply(len)"
   ]
  },
  {
   "cell_type": "code",
   "execution_count": 416,
   "id": "b7dd2c2f",
   "metadata": {},
   "outputs": [
    {
     "data": {
      "image/png": "[encoded data removed]",
      "text/plain": [
       "<Figure size 640x480 with 1 Axes>"
      ]
     },
     "metadata": {},
     "output_type": "display_data"
    }
   ],
   "source": [
    "dfs_subsel = dfs[dfs[\"len_switch\"] == 2]\n",
    "plt.scatter(dfs_subsel[\"tr\"],dfs_subsel[\"preds\"],s=3,alpha=0.025)\n",
    "plt.plot([min_tr,max_tr],[min_tr,max_tr],c=\"grey\")\n",
    "\n",
    "ax = plt.gca()\n",
    "ax.set_aspect('equal', adjustable='box')\n",
    "\n",
    "plt.xlim(min_tr,max_tr)\n",
    "plt.ylim(min_tr,max_tr)\n",
    "\n",
    "plt.xlabel(\"Observed retention time (iRT)\")\n",
    "plt.ylabel(\"Predicted retention time (iRT)\")\n",
    "\n",
    "plt.tight_layout()\n",
    "plt.savefig(\"figs/perf_overall.svg\")\n",
    "plt.show()"
   ]
  },
  {
   "cell_type": "code",
   "execution_count": 417,
   "id": "6763318a",
   "metadata": {
    "scrolled": false
   },
   "outputs": [
    {
     "data": {
      "image/png": "[encoded data removed]",
      "text/plain": [
       "<Figure size 640x480 with 1 Axes>"
      ]
     },
     "metadata": {},
     "output_type": "display_data"
    }
   ],
   "source": [
    "x_coords = []\n",
    "x_coords_right = []\n",
    "x_coords_left = []\n",
    "\n",
    "for i in range(2,7):\n",
    "    dfs_subsel = dfs[dfs[\"len_switch\"] == i]\n",
    "    dfs_subsel_left = dfs_left[dfs_left[\"len_switch\"] == i]\n",
    "    dfs_subsel_right = dfs_right[dfs_right[\"len_switch\"] == i]\n",
    "    \n",
    "    better_swap = sum(dfs_subsel[\"preds_error\"]>dfs_subsel[\"preds_switched_error\"])\n",
    "    better_orig = sum(dfs_subsel[\"preds_error\"]<dfs_subsel[\"preds_switched_error\"])\n",
    "    total = better_orig+better_swap\n",
    "    \n",
    "    better_swap_left = sum(dfs_subsel_left[\"preds_error\"]>dfs_subsel_left[\"preds_switched_error\"])\n",
    "    better_orig_left = sum(dfs_subsel_left[\"preds_error\"]<dfs_subsel_left[\"preds_switched_error\"])\n",
    "    total_left = better_orig_left+better_swap_left\n",
    "    \n",
    "    better_swap_right = sum(dfs_subsel_right[\"preds_error\"]>dfs_subsel_right[\"preds_switched_error\"])\n",
    "    better_orig_right = sum(dfs_subsel_right[\"preds_error\"]<dfs_subsel_right[\"preds_switched_error\"])\n",
    "    total_right = better_orig_right+better_swap_right\n",
    "    \n",
    "    x_coords.append((better_orig/total)*100)\n",
    "    x_coords_left.append((better_orig_left/total_left)*100)\n",
    "    x_coords_right.append((better_orig_right/total_right)*100)\n",
    "    \n",
    "\n",
    "ax = plt.figure().gca()\n",
    "ax.xaxis.set_major_locator(MaxNLocator(integer=True))\n",
    "    \n",
    "plt.plot(list(range(2,7)),x_coords,label=\"\")\n",
    "plt.scatter(list(range(2,7)),x_coords,label=\"Center\")\n",
    "\n",
    "plt.plot(list(range(2,7)),x_coords_left,label=\"\")\n",
    "plt.scatter(list(range(2,7)),x_coords_left,label=\"Center towards N-terminus\")\n",
    "\n",
    "plt.plot(list(range(2,7)),x_coords_right,label=\"\")\n",
    "plt.scatter(list(range(2,7)),x_coords_right,label=\"Center towards C-terminus\")\n",
    "\n",
    "plt.legend()\n",
    "\n",
    "plt.ylabel(\"Non-reversed peptides with smallest prediction error (%)\")\n",
    "plt.xlabel(\"Number of AA reversed\")\n",
    "\n",
    "plt.tight_layout()\n",
    "plt.savefig(\"figs/rev_ident.svg\")\n",
    "plt.show()"
   ]
  },
  {
   "cell_type": "code",
   "execution_count": 418,
   "id": "fc2fb907",
   "metadata": {},
   "outputs": [
    {
     "data": {
      "image/png": "[encoded data removed]",
      "text/plain": [
       "<Figure size 640x480 with 1 Axes>"
      ]
     },
     "metadata": {},
     "output_type": "display_data"
    }
   ],
   "source": [
    "for i,v in enumerate(all_errors):\n",
    "    sns.kdeplot(v,bw_adjust=2,label=f\"Reversed AA: {i+2}\")\n",
    "\n",
    "plt.xlabel(\"Error (iRT)\")\n",
    "plt.legend()\n",
    "plt.xlim(-20,20)\n",
    "plt.savefig(\"figs/eval_rev_density.svg\")\n",
    "plt.show()"
   ]
  },
  {
   "cell_type": "code",
   "execution_count": 419,
   "id": "923c3e2b",
   "metadata": {},
   "outputs": [
    {
     "data": {
      "image/png": "[encoded data removed]",
      "text/plain": [
       "<Figure size 640x480 with 1 Axes>"
      ]
     },
     "metadata": {},
     "output_type": "display_data"
    }
   ],
   "source": [
    "dfs_subsel = dfs[dfs[\"len_switch\"] == 2]\n",
    "plt.scatter(dfs_subsel[\"preds\"],dfs_subsel[\"preds_switched\"],s=3,alpha=0.05)\n",
    "\n",
    "plt.plot([min_tr,max_tr],[min_tr,max_tr],c=\"grey\")\n",
    "\n",
    "ax = plt.gca()\n",
    "ax.set_aspect('equal', adjustable='box')\n",
    "\n",
    "plt.xlim(min_tr,max_tr)\n",
    "plt.ylim(min_tr,max_tr)\n",
    "\n",
    "plt.xlabel(\"Predicted retention time non-reversed (iRT)\")\n",
    "plt.ylabel(\"Predicted retention time reversed (iRT)\")\n",
    "\n",
    "plt.tight_layout()\n",
    "plt.savefig(\"figs/comp_rev.svg\")\n",
    "plt.show()"
   ]
  },
  {
   "cell_type": "code",
   "execution_count": 421,
   "id": "86ef9700",
   "metadata": {
    "scrolled": false
   },
   "outputs": [
    {
     "data": {
      "image/png": "[encoded data removed]",
      "text/plain": [
       "<Figure size 640x480 with 1 Axes>"
      ]
     },
     "metadata": {},
     "output_type": "display_data"
    }
   ],
   "source": [
    "x_coords_all = []\n",
    "sel_dist = 4\n",
    "for j in range(min(dfs[\"len_seq\"]),30,sel_dist):\n",
    "    x_coords = []\n",
    "    for i in range(2,7):    \n",
    "        dfs_subsel = dfs[(dfs[\"len_switch\"] == i) & ((dfs[\"len_seq\"] >= j)  & (dfs[\"len_seq\"] <= j+sel_dist))]\n",
    "\n",
    "        better_swap = sum(dfs_subsel[\"preds_error\"]>dfs_subsel[\"preds_switched_error\"])\n",
    "        better_orig = sum(dfs_subsel[\"preds_error\"]<dfs_subsel[\"preds_switched_error\"])\n",
    "        total = better_orig+better_swap\n",
    "\n",
    "        x_coords.append((better_orig/total)*100)\n",
    "    x_coords_all.append([j,x_coords])\n",
    "\n",
    "\n",
    "ax = plt.figure().gca()\n",
    "ax.xaxis.set_major_locator(MaxNLocator(integer=True))\n",
    "        \n",
    "for j,coords in x_coords_all:\n",
    "    plt.plot(list(range(2,7)),coords,label=f\"\")\n",
    "    plt.scatter(list(range(2,7)),coords,label=f\"Seq. length: {j} - {j+sel_dist}\")\n",
    "\n",
    "plt.ylabel(\"Non-reversed peptides with smallest prediction error (%)\")\n",
    "plt.xlabel(\"Number of AA reversed\")\n",
    "\n",
    "plt.legend()\n",
    "plt.tight_layout()\n",
    "plt.savefig(\"figs/length_eval.svg\")\n",
    "plt.show()"
   ]
  },
  {
   "cell_type": "code",
   "execution_count": 420,
   "id": "d1918f29",
   "metadata": {},
   "outputs": [
    {
     "data": {
      "image/png": "[encoded data removed]",
      "text/plain": [
       "<Figure size 640x480 with 1 Axes>"
      ]
     },
     "metadata": {},
     "output_type": "display_data"
    }
   ],
   "source": [
    "def contains_aa(seq, aa_group):\n",
    "    return True in [c in seq for c in aa_group]\n",
    "\n",
    "aa_groups = [\"STNQ\",\"DE\",\"KHR\",\"CGM\",\"AVILMFYW\"]\n",
    "x_coords_all = []\n",
    "analyzed = []\n",
    "\n",
    "for aa_group in aa_groups:\n",
    "    for aa_group2 in aa_groups:\n",
    "        x_coords = []\n",
    "        for i in range(2,7):    \n",
    "            if aa_group == aa_group2:\n",
    "                continue\n",
    "            if aa_group+aa_group2 in analyzed:\n",
    "                continue\n",
    "            dfs_subsel = dfs[(dfs[\"len_switch\"] == i)]\n",
    "            dfs_subsel = dfs_subsel[dfs_subsel[\"seq\"].apply(contains_aa,aa_group=aa_group)]\n",
    "            dfs_subsel = dfs_subsel[dfs_subsel[\"seq\"].apply(contains_aa,aa_group=aa_group2)]\n",
    "            better_swap = sum(dfs_subsel[\"preds_error\"]>dfs_subsel[\"preds_switched_error\"])\n",
    "            better_orig = sum(dfs_subsel[\"preds_error\"]<dfs_subsel[\"preds_switched_error\"])\n",
    "            total = better_orig+better_swap\n",
    "            \n",
    "            x_coords.append((better_orig/total)*100)\n",
    "            \n",
    "\n",
    "        if aa_group == aa_group2:\n",
    "            continue\n",
    "        if x_coords == []:\n",
    "            continue\n",
    "        x_coords_all.append([[aa_group,aa_group2],x_coords])\n",
    "        \n",
    "        analyzed.append(aa_group+aa_group2)\n",
    "        analyzed.append(aa_group2+aa_group)\n",
    "\n",
    "for j,coords in x_coords_all:\n",
    "    j1,j2 = j\n",
    "    plt.plot(list(range(2,7)),coords,label=f\"\")\n",
    "    plt.scatter(list(range(2,7)),coords,label=f\"Contains [{j1}] and [{j2}]\")\n",
    "\n",
    "plt.legend()\n",
    "\n",
    "plt.ylabel(\"Non-reversed peptides with smallest prediction error (%)\")\n",
    "plt.xlabel(\"Number of AA reversed\")\n",
    "\n",
    "plt.tight_layout()\n",
    "plt.savefig(\"figs/aa_eval.svg\")\n",
    "plt.show()"
   ]
  },
  {
   "cell_type": "code",
   "execution_count": null,
   "id": "bdeea31b",
   "metadata": {},
   "outputs": [],
   "source": []
  },
  {
   "cell_type": "code",
   "execution_count": null,
   "id": "b116c763",
   "metadata": {},
   "outputs": [],
   "source": []
  },
  {
   "cell_type": "code",
   "execution_count": null,
   "id": "0c242ad7",
   "metadata": {},
   "outputs": [],
   "source": []
  },
  {
   "cell_type": "code",
   "execution_count": null,
   "id": "998fda47",
   "metadata": {},
   "outputs": [],
   "source": []
  },
  {
   "cell_type": "code",
   "execution_count": null,
   "id": "23addffe",
   "metadata": {},
   "outputs": [],
   "source": []
  },
  {
   "cell_type": "code",
   "execution_count": 154,
   "id": "4ea51151",
   "metadata": {},
   "outputs": [
    {
     "name": "stdout",
     "output_type": "stream",
     "text": [
      "       Unnamed: 0                                     seq modifications  \\\n",
      "0               6                            GPNGAIAELGPR                 \n",
      "1               8  KEGITGPPADSSKPIGPDDAIDALSSDFTCGSPTAAGK                 \n",
      "2              16                        VGLSGAPAAACSTAQK                 \n",
      "3              21                               TLSDADIQK                 \n",
      "4              29                             YATSCASCCPR                 \n",
      "...           ...                                     ...           ...   \n",
      "22731      113200                         YFLVGAGAIGCELLK                 \n",
      "22732      113202                           DYSHYYATIEDLR                 \n",
      "22733      113207                             WSDVAALEGAK                 \n",
      "22734      113208         IAPALCCGNTVVIKPAEQTPLSALYMGALIK  25|Oxidation   \n",
      "22735      113212            GQDMETEAHQNKLEAMINELAVAMTAVK                 \n",
      "\n",
      "               tr                                orig_seq  sel_pos aa_sw1  \\\n",
      "0       52.547034                            GPNGAIFELGPR        6      F   \n",
      "1       68.799698  KEGITGPPADSSKPIGPDDAIDALSSDFTCGSPTAAGK       19      A   \n",
      "2       -0.076841                        VGLSGAPADACSTAQK        8      D   \n",
      "3        7.559812                               TLSDYDIQK        4      Y   \n",
      "4      -12.949690                             YATSCYSCCPR        5      Y   \n",
      "...           ...                                     ...      ...    ...   \n",
      "22731   96.552428                         YFLVGAGAIGCELLK        7      A   \n",
      "22732   53.356455                           DYSHYYTTIEDLR        6      T   \n",
      "22733   26.222810                             WSDVAGLEGAK        5      G   \n",
      "22734   94.528666         IAPALCCGNTVVIKPAEQTPLSALYMGALIK       15      A   \n",
      "22735  133.785132            GQDMETEAHQNKLEEMINELAVAMTAVK       14      E   \n",
      "\n",
      "      aa_sw2  preds_switched       preds  preds_error  preds_switched_error  \n",
      "0          A       23.335893   53.072040     0.525006             29.211142  \n",
      "1          A       71.293862   71.293862     2.494165              2.494165  \n",
      "2          A        1.806293    0.405269     0.482110              1.883134  \n",
      "3          A      -12.526322    8.757262     1.197450             20.086133  \n",
      "4          A      -29.597488  -12.764449     0.185241             16.647797  \n",
      "...      ...             ...         ...          ...                   ...  \n",
      "22731      A       92.581145   92.581145     3.971283              3.971283  \n",
      "22732      A       56.120322   52.305391     1.051064              2.763867  \n",
      "22733      A       34.980966   27.096647     0.873838              8.758156  \n",
      "22734      A       96.118901   96.118901     1.590235              1.590235  \n",
      "22735      A      131.497877  131.705821     2.079312              2.287255  \n",
      "\n",
      "[22736 rows x 12 columns]\n",
      "       Unnamed: 0                                     seq modifications  \\\n",
      "0               6                            GPNGAICELGPR                 \n",
      "1               8  KEGITGPPADSSKPIGPDDCIDALSSDFTCGSPTAAGK                 \n",
      "2              16                        VGLSGAPACACSTAQK                 \n",
      "3              21                               TLSDCDIQK                 \n",
      "4              29                             YATSCCSCCPR                 \n",
      "...           ...                                     ...           ...   \n",
      "22731      113200                         YFLVGAGCIGCELLK                 \n",
      "22732      113202                           DYSHYYCTIEDLR                 \n",
      "22733      113207                             WSDVACLEGAK                 \n",
      "22734      113208         IAPALCCGNTVVIKPCEQTPLSALYMGALIK  25|Oxidation   \n",
      "22735      113212            GQDMETEAHQNKLECMINELAVAMTAVK                 \n",
      "\n",
      "               tr                                orig_seq  sel_pos aa_sw1  \\\n",
      "0       52.547034                            GPNGAIFELGPR        6      F   \n",
      "1       68.799698  KEGITGPPADSSKPIGPDDAIDALSSDFTCGSPTAAGK       19      A   \n",
      "2       -0.076841                        VGLSGAPADACSTAQK        8      D   \n",
      "3        7.559812                               TLSDYDIQK        4      Y   \n",
      "4      -12.949690                             YATSCYSCCPR        5      Y   \n",
      "...           ...                                     ...      ...    ...   \n",
      "22731   96.552428                         YFLVGAGAIGCELLK        7      A   \n",
      "22732   53.356455                           DYSHYYTTIEDLR        6      T   \n",
      "22733   26.222810                             WSDVAGLEGAK        5      G   \n",
      "22734   94.528666         IAPALCCGNTVVIKPAEQTPLSALYMGALIK       15      A   \n",
      "22735  133.785132            GQDMETEAHQNKLEEMINELAVAMTAVK       14      E   \n",
      "\n",
      "      aa_sw2  preds_switched       preds  preds_error  preds_switched_error  \n",
      "0          C       19.364508   53.072040     0.525006             33.182526  \n",
      "1          C       58.267777   71.293862     2.494165             10.531920  \n",
      "2          C       -0.024784    0.405269     0.482110              0.052057  \n",
      "3          C      -12.786385    8.757262     1.197450             20.346197  \n",
      "4          C      -29.705979  -12.764449     0.185241             16.756288  \n",
      "...      ...             ...         ...          ...                   ...  \n",
      "22731      C       91.383753   92.581145     3.971283              5.168676  \n",
      "22732      C       51.833423   52.305391     1.051064              1.523032  \n",
      "22733      C       31.962629   27.096647     0.873838              5.739819  \n",
      "22734      C       94.986946   96.118901     1.590235              0.458279  \n",
      "22735      C      130.262988  131.705821     2.079312              3.522144  \n",
      "\n",
      "[22736 rows x 12 columns]\n",
      "       Unnamed: 0                                     seq modifications  \\\n",
      "0               6                            GPNGAIDELGPR                 \n",
      "1               8  KEGITGPPADSSKPIGPDDDIDALSSDFTCGSPTAAGK                 \n",
      "2              16                        VGLSGAPADACSTAQK                 \n",
      "3              21                               TLSDDDIQK                 \n",
      "4              29                             YATSCDSCCPR                 \n",
      "...           ...                                     ...           ...   \n",
      "22731      113200                         YFLVGAGDIGCELLK                 \n",
      "22732      113202                           DYSHYYDTIEDLR                 \n",
      "22733      113207                             WSDVADLEGAK                 \n",
      "22734      113208         IAPALCCGNTVVIKPDEQTPLSALYMGALIK  25|Oxidation   \n",
      "22735      113212            GQDMETEAHQNKLEDMINELAVAMTAVK                 \n",
      "\n",
      "               tr                                orig_seq  sel_pos aa_sw1  \\\n",
      "0       52.547034                            GPNGAIFELGPR        6      F   \n",
      "1       68.799698  KEGITGPPADSSKPIGPDDAIDALSSDFTCGSPTAAGK       19      A   \n",
      "2       -0.076841                        VGLSGAPADACSTAQK        8      D   \n",
      "3        7.559812                               TLSDYDIQK        4      Y   \n",
      "4      -12.949690                             YATSCYSCCPR        5      Y   \n",
      "...           ...                                     ...      ...    ...   \n",
      "22731   96.552428                         YFLVGAGAIGCELLK        7      A   \n",
      "22732   53.356455                           DYSHYYTTIEDLR        6      T   \n",
      "22733   26.222810                             WSDVAGLEGAK        5      G   \n",
      "22734   94.528666         IAPALCCGNTVVIKPAEQTPLSALYMGALIK       15      A   \n",
      "22735  133.785132            GQDMETEAHQNKLEEMINELAVAMTAVK       14      E   \n",
      "\n",
      "      aa_sw2  preds_switched       preds  preds_error  preds_switched_error  \n",
      "0          D       20.125451   53.072040     0.525006             32.421583  \n",
      "1          D       58.424745   71.293862     2.494165             10.374953  \n",
      "2          D        0.405269    0.405269     0.482110              0.482110  \n",
      "3          D      -13.600359    8.757262     1.197450             21.160170  \n",
      "4          D      -30.680674  -12.764449     0.185241             17.730983  \n",
      "...      ...             ...         ...          ...                   ...  \n",
      "22731      D       94.447725   92.581145     3.971283              2.104703  \n",
      "22732      D       54.830240   52.305391     1.051064              1.473785  \n",
      "22733      D       34.397005   27.096647     0.873838              8.174195  \n",
      "22734      D       96.209739   96.118901     1.590235              1.681073  \n",
      "22735      D      131.824266  131.705821     2.079312              1.960866  \n",
      "\n",
      "[22736 rows x 12 columns]\n",
      "       Unnamed: 0                                     seq modifications  \\\n",
      "0               6                            GPNGAIEELGPR                 \n",
      "1               8  KEGITGPPADSSKPIGPDDEIDALSSDFTCGSPTAAGK                 \n",
      "2              16                        VGLSGAPAEACSTAQK                 \n",
      "3              21                               TLSDEDIQK                 \n",
      "4              29                             YATSCESCCPR                 \n",
      "...           ...                                     ...           ...   \n",
      "22731      113200                         YFLVGAGEIGCELLK                 \n",
      "22732      113202                           DYSHYYETIEDLR                 \n",
      "22733      113207                             WSDVAELEGAK                 \n",
      "22734      113208         IAPALCCGNTVVIKPEEQTPLSALYMGALIK  25|Oxidation   \n",
      "22735      113212            GQDMETEAHQNKLEEMINELAVAMTAVK                 \n",
      "\n",
      "               tr                                orig_seq  sel_pos aa_sw1  \\\n",
      "0       52.547034                            GPNGAIFELGPR        6      F   \n",
      "1       68.799698  KEGITGPPADSSKPIGPDDAIDALSSDFTCGSPTAAGK       19      A   \n",
      "2       -0.076841                        VGLSGAPADACSTAQK        8      D   \n",
      "3        7.559812                               TLSDYDIQK        4      Y   \n",
      "4      -12.949690                             YATSCYSCCPR        5      Y   \n",
      "...           ...                                     ...      ...    ...   \n",
      "22731   96.552428                         YFLVGAGAIGCELLK        7      A   \n",
      "22732   53.356455                           DYSHYYTTIEDLR        6      T   \n",
      "22733   26.222810                             WSDVAGLEGAK        5      G   \n",
      "22734   94.528666         IAPALCCGNTVVIKPAEQTPLSALYMGALIK       15      A   \n",
      "22735  133.785132            GQDMETEAHQNKLEEMINELAVAMTAVK       14      E   \n",
      "\n",
      "      aa_sw2  preds_switched       preds  preds_error  preds_switched_error  \n",
      "0          E       22.091562   53.072040     0.525006             30.455472  \n",
      "1          E       62.087789   71.293862     2.494165              6.711908  \n",
      "2          E        2.713351    0.405269     0.482110              2.790191  \n",
      "3          E      -13.125873    8.757262     1.197450             20.685685  \n",
      "4          E      -29.620817  -12.764449     0.185241             16.671127  \n",
      "...      ...             ...         ...          ...                   ...  \n",
      "22731      E       93.340940   92.581145     3.971283              3.211488  \n",
      "22732      E       57.205276   52.305391     1.051064              3.848821  \n",
      "22733      E       35.407083   27.096647     0.873838              9.184273  \n",
      "22734      E       95.379594   96.118901     1.590235              0.850927  \n",
      "22735      E      131.705771  131.705821     2.079312              2.079361  \n",
      "\n",
      "[22736 rows x 12 columns]\n"
     ]
    },
    {
     "name": "stdout",
     "output_type": "stream",
     "text": [
      "       Unnamed: 0                                     seq modifications  \\\n",
      "0               6                            GPNGAIFELGPR                 \n",
      "1               8  KEGITGPPADSSKPIGPDDFIDALSSDFTCGSPTAAGK                 \n",
      "2              16                        VGLSGAPAFACSTAQK                 \n",
      "3              21                               TLSDFDIQK                 \n",
      "4              29                             YATSCFSCCPR                 \n",
      "...           ...                                     ...           ...   \n",
      "22731      113200                         YFLVGAGFIGCELLK                 \n",
      "22732      113202                           DYSHYYFTIEDLR                 \n",
      "22733      113207                             WSDVAFLEGAK                 \n",
      "22734      113208         IAPALCCGNTVVIKPFEQTPLSALYMGALIK  25|Oxidation   \n",
      "22735      113212            GQDMETEAHQNKLEFMINELAVAMTAVK                 \n",
      "\n",
      "               tr                                orig_seq  sel_pos aa_sw1  \\\n",
      "0       52.547034                            GPNGAIFELGPR        6      F   \n",
      "1       68.799698  KEGITGPPADSSKPIGPDDAIDALSSDFTCGSPTAAGK       19      A   \n",
      "2       -0.076841                        VGLSGAPADACSTAQK        8      D   \n",
      "3        7.559812                               TLSDYDIQK        4      Y   \n",
      "4      -12.949690                             YATSCYSCCPR        5      Y   \n",
      "...           ...                                     ...      ...    ...   \n",
      "22731   96.552428                         YFLVGAGAIGCELLK        7      A   \n",
      "22732   53.356455                           DYSHYYTTIEDLR        6      T   \n",
      "22733   26.222810                             WSDVAGLEGAK        5      G   \n",
      "22734   94.528666         IAPALCCGNTVVIKPAEQTPLSALYMGALIK       15      A   \n",
      "22735  133.785132            GQDMETEAHQNKLEEMINELAVAMTAVK       14      E   \n",
      "\n",
      "      aa_sw2  preds_switched       preds  preds_error  preds_switched_error  \n",
      "0          F       53.072040   53.072040     0.525006              0.525006  \n",
      "1          F       97.120979   71.293862     2.494165             28.321281  \n",
      "2          F       30.643354    0.405269     0.482110             30.720195  \n",
      "3          F       31.236133    8.757262     1.197450             23.676321  \n",
      "4          F        3.856304  -12.764449     0.185241             16.805995  \n",
      "...      ...             ...         ...          ...                   ...  \n",
      "22731      F      114.977143   92.581145     3.971283             18.424714  \n",
      "22732      F       72.369129   52.305391     1.051064             19.012674  \n",
      "22733      F       63.352834   27.096647     0.873838             37.130024  \n",
      "22734      F      112.965667   96.118901     1.590235             18.437000  \n",
      "22735      F      134.110480  131.705821     2.079312              0.325348  \n",
      "\n",
      "[22736 rows x 12 columns]\n",
      "       Unnamed: 0                                     seq modifications  \\\n",
      "0               6                            GPNGAIGELGPR                 \n",
      "1               8  KEGITGPPADSSKPIGPDDGIDALSSDFTCGSPTAAGK                 \n",
      "2              16                        VGLSGAPAGACSTAQK                 \n",
      "3              21                               TLSDGDIQK                 \n",
      "4              29                             YATSCGSCCPR                 \n",
      "...           ...                                     ...           ...   \n",
      "22731      113200                         YFLVGAGGIGCELLK                 \n",
      "22732      113202                           DYSHYYGTIEDLR                 \n",
      "22733      113207                             WSDVAGLEGAK                 \n",
      "22734      113208         IAPALCCGNTVVIKPGEQTPLSALYMGALIK  25|Oxidation   \n",
      "22735      113212            GQDMETEAHQNKLEGMINELAVAMTAVK                 \n",
      "\n",
      "               tr                                orig_seq  sel_pos aa_sw1  \\\n",
      "0       52.547034                            GPNGAIFELGPR        6      F   \n",
      "1       68.799698  KEGITGPPADSSKPIGPDDAIDALSSDFTCGSPTAAGK       19      A   \n",
      "2       -0.076841                        VGLSGAPADACSTAQK        8      D   \n",
      "3        7.559812                               TLSDYDIQK        4      Y   \n",
      "4      -12.949690                             YATSCYSCCPR        5      Y   \n",
      "...           ...                                     ...      ...    ...   \n",
      "22731   96.552428                         YFLVGAGAIGCELLK        7      A   \n",
      "22732   53.356455                           DYSHYYTTIEDLR        6      T   \n",
      "22733   26.222810                             WSDVAGLEGAK        5      G   \n",
      "22734   94.528666         IAPALCCGNTVVIKPAEQTPLSALYMGALIK       15      A   \n",
      "22735  133.785132            GQDMETEAHQNKLEEMINELAVAMTAVK       14      E   \n",
      "\n",
      "      aa_sw2  preds_switched       preds  preds_error  preds_switched_error  \n",
      "0          G       16.896152   53.072040     0.525006             35.650882  \n",
      "1          G       56.884875   71.293862     2.494165             11.914823  \n",
      "2          G       -2.743341    0.405269     0.482110              2.666501  \n",
      "3          G      -17.839665    8.757262     1.197450             25.399477  \n",
      "4          G      -33.602718  -12.764449     0.185241             20.653028  \n",
      "...      ...             ...         ...          ...                   ...  \n",
      "22731      G       89.488042   92.581145     3.971283              7.064387  \n",
      "22732      G       46.457686   52.305391     1.051064              6.898769  \n",
      "22733      G       27.096634   27.096647     0.873838              0.873825  \n",
      "22734      G       93.271616   96.118901     1.590235              1.257051  \n",
      "22735      G      126.527697  131.705821     2.079312              7.257435  \n",
      "\n",
      "[22736 rows x 12 columns]\n",
      "       Unnamed: 0                                     seq modifications  \\\n",
      "0               6                            GPNGAIHELGPR                 \n",
      "1               8  KEGITGPPADSSKPIGPDDHIDALSSDFTCGSPTAAGK                 \n",
      "2              16                        VGLSGAPAHACSTAQK                 \n",
      "3              21                               TLSDHDIQK                 \n",
      "4              29                             YATSCHSCCPR                 \n",
      "...           ...                                     ...           ...   \n",
      "22731      113200                         YFLVGAGHIGCELLK                 \n",
      "22732      113202                           DYSHYYHTIEDLR                 \n",
      "22733      113207                             WSDVAHLEGAK                 \n",
      "22734      113208         IAPALCCGNTVVIKPHEQTPLSALYMGALIK  25|Oxidation   \n",
      "22735      113212            GQDMETEAHQNKLEHMINELAVAMTAVK                 \n",
      "\n",
      "               tr                                orig_seq  sel_pos aa_sw1  \\\n",
      "0       52.547034                            GPNGAIFELGPR        6      F   \n",
      "1       68.799698  KEGITGPPADSSKPIGPDDAIDALSSDFTCGSPTAAGK       19      A   \n",
      "2       -0.076841                        VGLSGAPADACSTAQK        8      D   \n",
      "3        7.559812                               TLSDYDIQK        4      Y   \n",
      "4      -12.949690                             YATSCYSCCPR        5      Y   \n",
      "...           ...                                     ...      ...    ...   \n",
      "22731   96.552428                         YFLVGAGAIGCELLK        7      A   \n",
      "22732   53.356455                           DYSHYYTTIEDLR        6      T   \n",
      "22733   26.222810                             WSDVAGLEGAK        5      G   \n",
      "22734   94.528666         IAPALCCGNTVVIKPAEQTPLSALYMGALIK       15      A   \n",
      "22735  133.785132            GQDMETEAHQNKLEEMINELAVAMTAVK       14      E   \n",
      "\n",
      "      aa_sw2  preds_switched       preds  preds_error  preds_switched_error  \n",
      "0          H       -4.261996   53.072040     0.525006             56.809030  \n",
      "1          H       44.528823   71.293862     2.494165             24.270874  \n",
      "2          H      -20.755457    0.405269     0.482110             20.678616  \n",
      "3          H      -29.345606    8.757262     1.197450             36.905418  \n",
      "4          H      -47.020776  -12.764449     0.185241             34.071086  \n",
      "...      ...             ...         ...          ...                   ...  \n",
      "22731      H       65.917593   92.581145     3.971283             30.634836  \n",
      "22732      H       35.058708   52.305391     1.051064             18.297747  \n",
      "22733      H       11.088208   27.096647     0.873838             15.134601  \n",
      "22734      H       78.891380   96.118901     1.590235             15.637286  \n",
      "22735      H      114.160548  131.705821     2.079312             19.624584  \n",
      "\n",
      "[22736 rows x 12 columns]\n",
      "       Unnamed: 0                                     seq modifications  \\\n",
      "0               6                            GPNGAIIELGPR                 \n",
      "1               8  KEGITGPPADSSKPIGPDDIIDALSSDFTCGSPTAAGK                 \n",
      "2              16                        VGLSGAPAIACSTAQK                 \n",
      "3              21                               TLSDIDIQK                 \n",
      "4              29                             YATSCISCCPR                 \n",
      "...           ...                                     ...           ...   \n",
      "22731      113200                         YFLVGAGIIGCELLK                 \n",
      "22732      113202                           DYSHYYITIEDLR                 \n",
      "22733      113207                             WSDVAILEGAK                 \n",
      "22734      113208         IAPALCCGNTVVIKPIEQTPLSALYMGALIK  25|Oxidation   \n",
      "22735      113212            GQDMETEAHQNKLEIMINELAVAMTAVK                 \n",
      "\n",
      "               tr                                orig_seq  sel_pos aa_sw1  \\\n",
      "0       52.547034                            GPNGAIFELGPR        6      F   \n",
      "1       68.799698  KEGITGPPADSSKPIGPDDAIDALSSDFTCGSPTAAGK       19      A   \n",
      "2       -0.076841                        VGLSGAPADACSTAQK        8      D   \n",
      "3        7.559812                               TLSDYDIQK        4      Y   \n",
      "4      -12.949690                             YATSCYSCCPR        5      Y   \n",
      "...           ...                                     ...      ...    ...   \n",
      "22731   96.552428                         YFLVGAGAIGCELLK        7      A   \n",
      "22732   53.356455                           DYSHYYTTIEDLR        6      T   \n",
      "22733   26.222810                             WSDVAGLEGAK        5      G   \n",
      "22734   94.528666         IAPALCCGNTVVIKPAEQTPLSALYMGALIK       15      A   \n",
      "22735  133.785132            GQDMETEAHQNKLEEMINELAVAMTAVK       14      E   \n",
      "\n",
      "      aa_sw2  preds_switched       preds  preds_error  preds_switched_error  \n",
      "0          I       41.058671   53.072040     0.525006             11.488363  \n",
      "1          I       94.985219   71.293862     2.494165             26.185521  \n",
      "2          I       22.715229    0.405269     0.482110             22.792070  \n",
      "3          I       18.296229    8.757262     1.197450             10.736418  \n",
      "4          I       -5.420104  -12.764449     0.185241              7.529587  \n",
      "...      ...             ...         ...          ...                   ...  \n",
      "22731      I      107.467427   92.581145     3.971283             10.914998  \n",
      "22732      I       66.406097   52.305391     1.051064             13.049642  \n",
      "22733      I       53.496117   27.096647     0.873838             27.273308  \n",
      "22734      I      109.581780   96.118901     1.590235             15.053114  \n",
      "22735      I      134.094842  131.705821     2.079312              0.309710  \n",
      "\n",
      "[22736 rows x 12 columns]\n"
     ]
    },
    {
     "name": "stdout",
     "output_type": "stream",
     "text": [
      "       Unnamed: 0                                     seq modifications  \\\n",
      "0               6                            GPNGAIKELGPR                 \n",
      "1               8  KEGITGPPADSSKPIGPDDKIDALSSDFTCGSPTAAGK                 \n",
      "2              16                        VGLSGAPAKACSTAQK                 \n",
      "3              21                               TLSDKDIQK                 \n",
      "4              29                             YATSCKSCCPR                 \n",
      "...           ...                                     ...           ...   \n",
      "22731      113200                         YFLVGAGKIGCELLK                 \n",
      "22732      113202                           DYSHYYKTIEDLR                 \n",
      "22733      113207                             WSDVAKLEGAK                 \n",
      "22734      113208         IAPALCCGNTVVIKPKEQTPLSALYMGALIK  25|Oxidation   \n",
      "22735      113212            GQDMETEAHQNKLEKMINELAVAMTAVK                 \n",
      "\n",
      "               tr                                orig_seq  sel_pos aa_sw1  \\\n",
      "0       52.547034                            GPNGAIFELGPR        6      F   \n",
      "1       68.799698  KEGITGPPADSSKPIGPDDAIDALSSDFTCGSPTAAGK       19      A   \n",
      "2       -0.076841                        VGLSGAPADACSTAQK        8      D   \n",
      "3        7.559812                               TLSDYDIQK        4      Y   \n",
      "4      -12.949690                             YATSCYSCCPR        5      Y   \n",
      "...           ...                                     ...      ...    ...   \n",
      "22731   96.552428                         YFLVGAGAIGCELLK        7      A   \n",
      "22732   53.356455                           DYSHYYTTIEDLR        6      T   \n",
      "22733   26.222810                             WSDVAGLEGAK        5      G   \n",
      "22734   94.528666         IAPALCCGNTVVIKPAEQTPLSALYMGALIK       15      A   \n",
      "22735  133.785132            GQDMETEAHQNKLEEMINELAVAMTAVK       14      E   \n",
      "\n",
      "      aa_sw2  preds_switched       preds  preds_error  preds_switched_error  \n",
      "0          K       -1.787598   53.072040     0.525006             54.334632  \n",
      "1          K       46.307728   71.293862     2.494165             22.491970  \n",
      "2          K      -19.627626    0.405269     0.482110             19.550785  \n",
      "3          K      -33.129550    8.757262     1.197450             40.689362  \n",
      "4          K      -48.894103  -12.764449     0.185241             35.944413  \n",
      "...      ...             ...         ...          ...                   ...  \n",
      "22731      K       66.922586   92.581145     3.971283             29.629842  \n",
      "22732      K       39.079758   52.305391     1.051064             14.276697  \n",
      "22733      K        9.118641   27.096647     0.873838             17.104169  \n",
      "22734      K       78.658707   96.118901     1.590235             15.869959  \n",
      "22735      K      120.069526  131.705821     2.079312             13.715606  \n",
      "\n",
      "[22736 rows x 12 columns]\n",
      "       Unnamed: 0                                     seq modifications  \\\n",
      "0               6                            GPNGAILELGPR                 \n",
      "1               8  KEGITGPPADSSKPIGPDDLIDALSSDFTCGSPTAAGK                 \n",
      "2              16                        VGLSGAPALACSTAQK                 \n",
      "3              21                               TLSDLDIQK                 \n",
      "4              29                             YATSCLSCCPR                 \n",
      "...           ...                                     ...           ...   \n",
      "22731      113200                         YFLVGAGLIGCELLK                 \n",
      "22732      113202                           DYSHYYLTIEDLR                 \n",
      "22733      113207                             WSDVALLEGAK                 \n",
      "22734      113208         IAPALCCGNTVVIKPLEQTPLSALYMGALIK  25|Oxidation   \n",
      "22735      113212            GQDMETEAHQNKLELMINELAVAMTAVK                 \n",
      "\n",
      "               tr                                orig_seq  sel_pos aa_sw1  \\\n",
      "0       52.547034                            GPNGAIFELGPR        6      F   \n",
      "1       68.799698  KEGITGPPADSSKPIGPDDAIDALSSDFTCGSPTAAGK       19      A   \n",
      "2       -0.076841                        VGLSGAPADACSTAQK        8      D   \n",
      "3        7.559812                               TLSDYDIQK        4      Y   \n",
      "4      -12.949690                             YATSCYSCCPR        5      Y   \n",
      "...           ...                                     ...      ...    ...   \n",
      "22731   96.552428                         YFLVGAGAIGCELLK        7      A   \n",
      "22732   53.356455                           DYSHYYTTIEDLR        6      T   \n",
      "22733   26.222810                             WSDVAGLEGAK        5      G   \n",
      "22734   94.528666         IAPALCCGNTVVIKPAEQTPLSALYMGALIK       15      A   \n",
      "22735  133.785132            GQDMETEAHQNKLEEMINELAVAMTAVK       14      E   \n",
      "\n",
      "      aa_sw2  preds_switched       preds  preds_error  preds_switched_error  \n",
      "0          L       44.994574   53.072040     0.525006              7.552460  \n",
      "1          L       97.448026   71.293862     2.494165             28.648328  \n",
      "2          L       24.951945    0.405269     0.482110             25.028785  \n",
      "3          L       22.147608    8.757262     1.197450             14.587796  \n",
      "4          L       -2.516050  -12.764449     0.185241             10.433641  \n",
      "...      ...             ...         ...          ...                   ...  \n",
      "22731      L      110.792512   92.581145     3.971283             14.240084  \n",
      "22732      L       68.534108   52.305391     1.051064             15.177653  \n",
      "22733      L       57.211314   27.096647     0.873838             30.988504  \n",
      "22734      L      113.460071   96.118901     1.590235             18.931405  \n",
      "22735      L      134.111647  131.705821     2.079312              0.326515  \n",
      "\n",
      "[22736 rows x 12 columns]\n",
      "       Unnamed: 0                                     seq modifications  \\\n",
      "0               6                            GPNGAIMELGPR                 \n",
      "1               8  KEGITGPPADSSKPIGPDDMIDALSSDFTCGSPTAAGK                 \n",
      "2              16                        VGLSGAPAMACSTAQK                 \n",
      "3              21                               TLSDMDIQK                 \n",
      "4              29                             YATSCMSCCPR                 \n",
      "...           ...                                     ...           ...   \n",
      "22731      113200                         YFLVGAGMIGCELLK                 \n",
      "22732      113202                           DYSHYYMTIEDLR                 \n",
      "22733      113207                             WSDVAMLEGAK                 \n",
      "22734      113208         IAPALCCGNTVVIKPMEQTPLSALYMGALIK  25|Oxidation   \n",
      "22735      113212            GQDMETEAHQNKLEMMINELAVAMTAVK                 \n",
      "\n",
      "               tr                                orig_seq  sel_pos aa_sw1  \\\n",
      "0       52.547034                            GPNGAIFELGPR        6      F   \n",
      "1       68.799698  KEGITGPPADSSKPIGPDDAIDALSSDFTCGSPTAAGK       19      A   \n",
      "2       -0.076841                        VGLSGAPADACSTAQK        8      D   \n",
      "3        7.559812                               TLSDYDIQK        4      Y   \n",
      "4      -12.949690                             YATSCYSCCPR        5      Y   \n",
      "...           ...                                     ...      ...    ...   \n",
      "22731   96.552428                         YFLVGAGAIGCELLK        7      A   \n",
      "22732   53.356455                           DYSHYYTTIEDLR        6      T   \n",
      "22733   26.222810                             WSDVAGLEGAK        5      G   \n",
      "22734   94.528666         IAPALCCGNTVVIKPAEQTPLSALYMGALIK       15      A   \n",
      "22735  133.785132            GQDMETEAHQNKLEEMINELAVAMTAVK       14      E   \n",
      "\n",
      "      aa_sw2  preds_switched       preds  preds_error  preds_switched_error  \n",
      "0          M       38.002314   53.072040     0.525006             14.544720  \n",
      "1          M       83.989470   71.293862     2.494165             15.189773  \n",
      "2          M       16.700318    0.405269     0.482110             16.777159  \n",
      "3          M        9.740452    8.757262     1.197450              2.180640  \n",
      "4          M      -13.679458  -12.764449     0.185241              0.729768  \n",
      "...      ...             ...         ...          ...                   ...  \n",
      "22731      M      103.002983   92.581145     3.971283              6.450555  \n",
      "22732      M       62.805594   52.305391     1.051064              9.449139  \n",
      "22733      M       46.557211   27.096647     0.873838             20.334401  \n",
      "22734      M      105.926304   96.118901     1.590235             11.397638  \n",
      "22735      M      133.064656  131.705821     2.079312              0.720476  \n",
      "\n",
      "[22736 rows x 12 columns]\n",
      "       Unnamed: 0                                     seq modifications  \\\n",
      "0               6                            GPNGAINELGPR                 \n",
      "1               8  KEGITGPPADSSKPIGPDDNIDALSSDFTCGSPTAAGK                 \n",
      "2              16                        VGLSGAPANACSTAQK                 \n",
      "3              21                               TLSDNDIQK                 \n",
      "4              29                             YATSCNSCCPR                 \n",
      "...           ...                                     ...           ...   \n",
      "22731      113200                         YFLVGAGNIGCELLK                 \n",
      "22732      113202                           DYSHYYNTIEDLR                 \n",
      "22733      113207                             WSDVANLEGAK                 \n",
      "22734      113208         IAPALCCGNTVVIKPNEQTPLSALYMGALIK  25|Oxidation   \n",
      "22735      113212            GQDMETEAHQNKLENMINELAVAMTAVK                 \n",
      "\n",
      "               tr                                orig_seq  sel_pos aa_sw1  \\\n",
      "0       52.547034                            GPNGAIFELGPR        6      F   \n",
      "1       68.799698  KEGITGPPADSSKPIGPDDAIDALSSDFTCGSPTAAGK       19      A   \n",
      "2       -0.076841                        VGLSGAPADACSTAQK        8      D   \n",
      "3        7.559812                               TLSDYDIQK        4      Y   \n",
      "4      -12.949690                             YATSCYSCCPR        5      Y   \n",
      "...           ...                                     ...      ...    ...   \n",
      "22731   96.552428                         YFLVGAGAIGCELLK        7      A   \n",
      "22732   53.356455                           DYSHYYTTIEDLR        6      T   \n",
      "22733   26.222810                             WSDVAGLEGAK        5      G   \n",
      "22734   94.528666         IAPALCCGNTVVIKPAEQTPLSALYMGALIK       15      A   \n",
      "22735  133.785132            GQDMETEAHQNKLEEMINELAVAMTAVK       14      E   \n",
      "\n",
      "      aa_sw2  preds_switched       preds  preds_error  preds_switched_error  \n",
      "0          N       13.253095   53.072040     0.525006             39.293939  \n",
      "1          N       54.259161   71.293862     2.494165             14.540537  \n",
      "2          N       -4.175478    0.405269     0.482110              4.098637  \n",
      "3          N      -19.113213    8.757262     1.197450             26.673025  \n",
      "4          N      -34.773954  -12.764449     0.185241             21.824263  \n",
      "...      ...             ...         ...          ...                   ...  \n",
      "22731      N       88.907783   92.581145     3.971283              7.644645  \n",
      "22732      N       49.513484   52.305391     1.051064              3.842971  \n",
      "22733      N       27.725491   27.096647     0.873838              1.502681  \n",
      "22734      N       92.609267   96.118901     1.590235              1.919399  \n",
      "22735      N      128.891222  131.705821     2.079312              4.893911  \n",
      "\n",
      "[22736 rows x 12 columns]\n"
     ]
    },
    {
     "name": "stdout",
     "output_type": "stream",
     "text": [
      "       Unnamed: 0                                     seq modifications  \\\n",
      "0               6                            GPNGAIPELGPR                 \n",
      "1               8  KEGITGPPADSSKPIGPDDPIDALSSDFTCGSPTAAGK                 \n",
      "2              16                        VGLSGAPAPACSTAQK                 \n",
      "3              21                               TLSDPDIQK                 \n",
      "4              29                             YATSCPSCCPR                 \n",
      "...           ...                                     ...           ...   \n",
      "22731      113200                         YFLVGAGPIGCELLK                 \n",
      "22732      113202                           DYSHYYPTIEDLR                 \n",
      "22733      113207                             WSDVAPLEGAK                 \n",
      "22734      113208         IAPALCCGNTVVIKPPEQTPLSALYMGALIK  25|Oxidation   \n",
      "22735      113212            GQDMETEAHQNKLEPMINELAVAMTAVK                 \n",
      "\n",
      "               tr                                orig_seq  sel_pos aa_sw1  \\\n",
      "0       52.547034                            GPNGAIFELGPR        6      F   \n",
      "1       68.799698  KEGITGPPADSSKPIGPDDAIDALSSDFTCGSPTAAGK       19      A   \n",
      "2       -0.076841                        VGLSGAPADACSTAQK        8      D   \n",
      "3        7.559812                               TLSDYDIQK        4      Y   \n",
      "4      -12.949690                             YATSCYSCCPR        5      Y   \n",
      "...           ...                                     ...      ...    ...   \n",
      "22731   96.552428                         YFLVGAGAIGCELLK        7      A   \n",
      "22732   53.356455                           DYSHYYTTIEDLR        6      T   \n",
      "22733   26.222810                             WSDVAGLEGAK        5      G   \n",
      "22734   94.528666         IAPALCCGNTVVIKPAEQTPLSALYMGALIK       15      A   \n",
      "22735  133.785132            GQDMETEAHQNKLEEMINELAVAMTAVK       14      E   \n",
      "\n",
      "      aa_sw2  preds_switched       preds  preds_error  preds_switched_error  \n",
      "0          P       29.877582   53.072040     0.525006             22.669452  \n",
      "1          P       70.811213   71.293862     2.494165              2.011515  \n",
      "2          P        2.634326    0.405269     0.482110              2.711167  \n",
      "3          P       -4.862925    8.757262     1.197450             12.422736  \n",
      "4          P      -23.481117  -12.764449     0.185241             10.531427  \n",
      "...      ...             ...         ...          ...                   ...  \n",
      "22731      P       93.748416   92.581145     3.971283              2.804012  \n",
      "22732      P       50.681579   52.305391     1.051064              2.674876  \n",
      "22733      P       33.914538   27.096647     0.873838              7.691728  \n",
      "22734      P       97.868360   96.118901     1.590235              3.339694  \n",
      "22735      P      113.396306  131.705821     2.079312             20.388826  \n",
      "\n",
      "[22736 rows x 12 columns]\n",
      "       Unnamed: 0                                     seq modifications  \\\n",
      "0               6                            GPNGAIQELGPR                 \n",
      "1               8  KEGITGPPADSSKPIGPDDQIDALSSDFTCGSPTAAGK                 \n",
      "2              16                        VGLSGAPAQACSTAQK                 \n",
      "3              21                               TLSDQDIQK                 \n",
      "4              29                             YATSCQSCCPR                 \n",
      "...           ...                                     ...           ...   \n",
      "22731      113200                         YFLVGAGQIGCELLK                 \n",
      "22732      113202                           DYSHYYQTIEDLR                 \n",
      "22733      113207                             WSDVAQLEGAK                 \n",
      "22734      113208         IAPALCCGNTVVIKPQEQTPLSALYMGALIK  25|Oxidation   \n",
      "22735      113212            GQDMETEAHQNKLEQMINELAVAMTAVK                 \n",
      "\n",
      "               tr                                orig_seq  sel_pos aa_sw1  \\\n",
      "0       52.547034                            GPNGAIFELGPR        6      F   \n",
      "1       68.799698  KEGITGPPADSSKPIGPDDAIDALSSDFTCGSPTAAGK       19      A   \n",
      "2       -0.076841                        VGLSGAPADACSTAQK        8      D   \n",
      "3        7.559812                               TLSDYDIQK        4      Y   \n",
      "4      -12.949690                             YATSCYSCCPR        5      Y   \n",
      "...           ...                                     ...      ...    ...   \n",
      "22731   96.552428                         YFLVGAGAIGCELLK        7      A   \n",
      "22732   53.356455                           DYSHYYTTIEDLR        6      T   \n",
      "22733   26.222810                             WSDVAGLEGAK        5      G   \n",
      "22734   94.528666         IAPALCCGNTVVIKPAEQTPLSALYMGALIK       15      A   \n",
      "22735  133.785132            GQDMETEAHQNKLEEMINELAVAMTAVK       14      E   \n",
      "\n",
      "      aa_sw2  preds_switched       preds  preds_error  preds_switched_error  \n",
      "0          Q       16.574736   53.072040     0.525006             35.972299  \n",
      "1          Q       55.920994   71.293862     2.494165             12.878703  \n",
      "2          Q       -2.264880    0.405269     0.482110              2.188039  \n",
      "3          Q      -17.176953    8.757262     1.197450             24.736764  \n",
      "4          Q      -33.328630  -12.764449     0.185241             20.378940  \n",
      "...      ...             ...         ...          ...                   ...  \n",
      "22731      Q       89.311460   92.581145     3.971283              7.240968  \n",
      "22732      Q       53.903577   52.305391     1.051064              0.547122  \n",
      "22733      Q       30.939524   27.096647     0.873838              4.716714  \n",
      "22734      Q       92.797803   96.118901     1.590235              1.730863  \n",
      "22735      Q      131.369932  131.705821     2.079312              2.415201  \n",
      "\n",
      "[22736 rows x 12 columns]\n",
      "       Unnamed: 0                                     seq modifications  \\\n",
      "0               6                            GPNGAIRELGPR                 \n",
      "1               8  KEGITGPPADSSKPIGPDDRIDALSSDFTCGSPTAAGK                 \n",
      "2              16                        VGLSGAPARACSTAQK                 \n",
      "3              21                               TLSDRDIQK                 \n",
      "4              29                             YATSCRSCCPR                 \n",
      "...           ...                                     ...           ...   \n",
      "22731      113200                         YFLVGAGRIGCELLK                 \n",
      "22732      113202                           DYSHYYRTIEDLR                 \n",
      "22733      113207                             WSDVARLEGAK                 \n",
      "22734      113208         IAPALCCGNTVVIKPREQTPLSALYMGALIK  25|Oxidation   \n",
      "22735      113212            GQDMETEAHQNKLERMINELAVAMTAVK                 \n",
      "\n",
      "               tr                                orig_seq  sel_pos aa_sw1  \\\n",
      "0       52.547034                            GPNGAIFELGPR        6      F   \n",
      "1       68.799698  KEGITGPPADSSKPIGPDDAIDALSSDFTCGSPTAAGK       19      A   \n",
      "2       -0.076841                        VGLSGAPADACSTAQK        8      D   \n",
      "3        7.559812                               TLSDYDIQK        4      Y   \n",
      "4      -12.949690                             YATSCYSCCPR        5      Y   \n",
      "...           ...                                     ...      ...    ...   \n",
      "22731   96.552428                         YFLVGAGAIGCELLK        7      A   \n",
      "22732   53.356455                           DYSHYYTTIEDLR        6      T   \n",
      "22733   26.222810                             WSDVAGLEGAK        5      G   \n",
      "22734   94.528666         IAPALCCGNTVVIKPAEQTPLSALYMGALIK       15      A   \n",
      "22735  133.785132            GQDMETEAHQNKLEEMINELAVAMTAVK       14      E   \n",
      "\n",
      "      aa_sw2  preds_switched       preds  preds_error  preds_switched_error  \n",
      "0          R       -1.144714   53.072040     0.525006             53.691749  \n",
      "1          R       45.633190   71.293862     2.494165             23.166508  \n",
      "2          R      -19.171941    0.405269     0.482110             19.095100  \n",
      "3          R      -30.302314    8.757262     1.197450             37.862125  \n",
      "4          R      -44.570751  -12.764449     0.185241             31.621061  \n",
      "...      ...             ...         ...          ...                   ...  \n",
      "22731      R       70.157692   92.581145     3.971283             26.394737  \n",
      "22732      R       38.647786   52.305391     1.051064             14.708669  \n",
      "22733      R       14.236768   27.096647     0.873838             11.986042  \n",
      "22734      R       80.233801   96.118901     1.590235             14.294865  \n",
      "22735      R      112.378413  131.705821     2.079312             21.406719  \n",
      "\n",
      "[22736 rows x 12 columns]\n",
      "       Unnamed: 0                                     seq modifications  \\\n",
      "0               6                            GPNGAISELGPR                 \n",
      "1               8  KEGITGPPADSSKPIGPDDSIDALSSDFTCGSPTAAGK                 \n",
      "2              16                        VGLSGAPASACSTAQK                 \n",
      "3              21                               TLSDSDIQK                 \n",
      "4              29                             YATSCSSCCPR                 \n",
      "...           ...                                     ...           ...   \n",
      "22731      113200                         YFLVGAGSIGCELLK                 \n",
      "22732      113202                           DYSHYYSTIEDLR                 \n",
      "22733      113207                             WSDVASLEGAK                 \n",
      "22734      113208         IAPALCCGNTVVIKPSEQTPLSALYMGALIK  25|Oxidation   \n",
      "22735      113212            GQDMETEAHQNKLESMINELAVAMTAVK                 \n",
      "\n",
      "               tr                                orig_seq  sel_pos aa_sw1  \\\n",
      "0       52.547034                            GPNGAIFELGPR        6      F   \n",
      "1       68.799698  KEGITGPPADSSKPIGPDDAIDALSSDFTCGSPTAAGK       19      A   \n",
      "2       -0.076841                        VGLSGAPADACSTAQK        8      D   \n",
      "3        7.559812                               TLSDYDIQK        4      Y   \n",
      "4      -12.949690                             YATSCYSCCPR        5      Y   \n",
      "...           ...                                     ...      ...    ...   \n",
      "22731   96.552428                         YFLVGAGAIGCELLK        7      A   \n",
      "22732   53.356455                           DYSHYYTTIEDLR        6      T   \n",
      "22733   26.222810                             WSDVAGLEGAK        5      G   \n",
      "22734   94.528666         IAPALCCGNTVVIKPAEQTPLSALYMGALIK       15      A   \n",
      "22735  133.785132            GQDMETEAHQNKLEEMINELAVAMTAVK       14      E   \n",
      "\n",
      "      aa_sw2  preds_switched       preds  preds_error  preds_switched_error  \n",
      "0          S       16.885131   53.072040     0.525006             35.661903  \n",
      "1          S       56.710009   71.293862     2.494165             12.089688  \n",
      "2          S       -2.230471    0.405269     0.482110              2.153630  \n",
      "3          S      -18.127196    8.757262     1.197450             25.687008  \n",
      "4          S      -33.241822  -12.764449     0.185241             20.292131  \n",
      "...      ...             ...         ...          ...                   ...  \n",
      "22731      S       91.058926   92.581145     3.971283              5.493502  \n",
      "22732      S       49.615302   52.305391     1.051064              3.741153  \n",
      "22733      S       29.038565   27.096647     0.873838              2.815755  \n",
      "22734      S       93.741424   96.118901     1.590235              0.787242  \n",
      "22735      S      129.708697  131.705821     2.079312              4.076435  \n",
      "\n",
      "[22736 rows x 12 columns]\n"
     ]
    },
    {
     "name": "stdout",
     "output_type": "stream",
     "text": [
      "       Unnamed: 0                                     seq modifications  \\\n",
      "0               6                            GPNGAITELGPR                 \n",
      "1               8  KEGITGPPADSSKPIGPDDTIDALSSDFTCGSPTAAGK                 \n",
      "2              16                        VGLSGAPATACSTAQK                 \n",
      "3              21                               TLSDTDIQK                 \n",
      "4              29                             YATSCTSCCPR                 \n",
      "...           ...                                     ...           ...   \n",
      "22731      113200                         YFLVGAGTIGCELLK                 \n",
      "22732      113202                           DYSHYYTTIEDLR                 \n",
      "22733      113207                             WSDVATLEGAK                 \n",
      "22734      113208         IAPALCCGNTVVIKPTEQTPLSALYMGALIK  25|Oxidation   \n",
      "22735      113212            GQDMETEAHQNKLETMINELAVAMTAVK                 \n",
      "\n",
      "               tr                                orig_seq  sel_pos aa_sw1  \\\n",
      "0       52.547034                            GPNGAIFELGPR        6      F   \n",
      "1       68.799698  KEGITGPPADSSKPIGPDDAIDALSSDFTCGSPTAAGK       19      A   \n",
      "2       -0.076841                        VGLSGAPADACSTAQK        8      D   \n",
      "3        7.559812                               TLSDYDIQK        4      Y   \n",
      "4      -12.949690                             YATSCYSCCPR        5      Y   \n",
      "...           ...                                     ...      ...    ...   \n",
      "22731   96.552428                         YFLVGAGAIGCELLK        7      A   \n",
      "22732   53.356455                           DYSHYYTTIEDLR        6      T   \n",
      "22733   26.222810                             WSDVAGLEGAK        5      G   \n",
      "22734   94.528666         IAPALCCGNTVVIKPAEQTPLSALYMGALIK       15      A   \n",
      "22735  133.785132            GQDMETEAHQNKLEEMINELAVAMTAVK       14      E   \n",
      "\n",
      "      aa_sw2  preds_switched       preds  preds_error  preds_switched_error  \n",
      "0          T       20.084368   53.072040     0.525006             32.462666  \n",
      "1          T       61.850535   71.293862     2.494165              6.949162  \n",
      "2          T        0.173062    0.405269     0.482110              0.249903  \n",
      "3          T      -14.011890    8.757262     1.197450             21.571702  \n",
      "4          T      -30.220381  -12.764449     0.185241             17.270691  \n",
      "...      ...             ...         ...          ...                   ...  \n",
      "22731      T       91.769203   92.581145     3.971283              4.783225  \n",
      "22732      T       52.305391   52.305391     1.051064              1.051064  \n",
      "22733      T       31.524829   27.096647     0.873838              5.302019  \n",
      "22734      T       94.931339   96.118901     1.590235              0.402673  \n",
      "22735      T      132.095161  131.705821     2.079312              1.689971  \n",
      "\n",
      "[22736 rows x 12 columns]\n",
      "       Unnamed: 0                                     seq modifications  \\\n",
      "0               6                            GPNGAIVELGPR                 \n",
      "1               8  KEGITGPPADSSKPIGPDDVIDALSSDFTCGSPTAAGK                 \n",
      "2              16                        VGLSGAPAVACSTAQK                 \n",
      "3              21                               TLSDVDIQK                 \n",
      "4              29                             YATSCVSCCPR                 \n",
      "...           ...                                     ...           ...   \n",
      "22731      113200                         YFLVGAGVIGCELLK                 \n",
      "22732      113202                           DYSHYYVTIEDLR                 \n",
      "22733      113207                             WSDVAVLEGAK                 \n",
      "22734      113208         IAPALCCGNTVVIKPVEQTPLSALYMGALIK  25|Oxidation   \n",
      "22735      113212            GQDMETEAHQNKLEVMINELAVAMTAVK                 \n",
      "\n",
      "               tr                                orig_seq  sel_pos aa_sw1  \\\n",
      "0       52.547034                            GPNGAIFELGPR        6      F   \n",
      "1       68.799698  KEGITGPPADSSKPIGPDDAIDALSSDFTCGSPTAAGK       19      A   \n",
      "2       -0.076841                        VGLSGAPADACSTAQK        8      D   \n",
      "3        7.559812                               TLSDYDIQK        4      Y   \n",
      "4      -12.949690                             YATSCYSCCPR        5      Y   \n",
      "...           ...                                     ...      ...    ...   \n",
      "22731   96.552428                         YFLVGAGAIGCELLK        7      A   \n",
      "22732   53.356455                           DYSHYYTTIEDLR        6      T   \n",
      "22733   26.222810                             WSDVAGLEGAK        5      G   \n",
      "22734   94.528666         IAPALCCGNTVVIKPAEQTPLSALYMGALIK       15      A   \n",
      "22735  133.785132            GQDMETEAHQNKLEEMINELAVAMTAVK       14      E   \n",
      "\n",
      "      aa_sw2  preds_switched       preds  preds_error  preds_switched_error  \n",
      "0          V       33.179603   53.072040     0.525006             19.367431  \n",
      "1          V       87.995940   71.293862     2.494165             19.196242  \n",
      "2          V       12.916825    0.405269     0.482110             12.993666  \n",
      "3          V        4.565775    8.757262     1.197450              2.994037  \n",
      "4          V      -17.274334  -12.764449     0.185241              4.324644  \n",
      "...      ...             ...         ...          ...                   ...  \n",
      "22731      V      100.130751   92.581145     3.971283              3.578323  \n",
      "22732      V       59.350223   52.305391     1.051064              5.993768  \n",
      "22733      V       44.132708   27.096647     0.873838             17.909898  \n",
      "22734      V      103.345378   96.118901     1.590235              8.816712  \n",
      "22735      V      133.142258  131.705821     2.079312              0.642874  \n",
      "\n",
      "[22736 rows x 12 columns]\n",
      "       Unnamed: 0                                     seq modifications  \\\n",
      "0               6                            GPNGAIWELGPR                 \n",
      "1               8  KEGITGPPADSSKPIGPDDWIDALSSDFTCGSPTAAGK                 \n",
      "2              16                        VGLSGAPAWACSTAQK                 \n",
      "3              21                               TLSDWDIQK                 \n",
      "4              29                             YATSCWSCCPR                 \n",
      "...           ...                                     ...           ...   \n",
      "22731      113200                         YFLVGAGWIGCELLK                 \n",
      "22732      113202                           DYSHYYWTIEDLR                 \n",
      "22733      113207                             WSDVAWLEGAK                 \n",
      "22734      113208         IAPALCCGNTVVIKPWEQTPLSALYMGALIK  25|Oxidation   \n",
      "22735      113212            GQDMETEAHQNKLEWMINELAVAMTAVK                 \n",
      "\n",
      "               tr                                orig_seq  sel_pos aa_sw1  \\\n",
      "0       52.547034                            GPNGAIFELGPR        6      F   \n",
      "1       68.799698  KEGITGPPADSSKPIGPDDAIDALSSDFTCGSPTAAGK       19      A   \n",
      "2       -0.076841                        VGLSGAPADACSTAQK        8      D   \n",
      "3        7.559812                               TLSDYDIQK        4      Y   \n",
      "4      -12.949690                             YATSCYSCCPR        5      Y   \n",
      "...           ...                                     ...      ...    ...   \n",
      "22731   96.552428                         YFLVGAGAIGCELLK        7      A   \n",
      "22732   53.356455                           DYSHYYTTIEDLR        6      T   \n",
      "22733   26.222810                             WSDVAGLEGAK        5      G   \n",
      "22734   94.528666         IAPALCCGNTVVIKPAEQTPLSALYMGALIK       15      A   \n",
      "22735  133.785132            GQDMETEAHQNKLEEMINELAVAMTAVK       14      E   \n",
      "\n",
      "      aa_sw2  preds_switched       preds  preds_error  preds_switched_error  \n",
      "0          W       54.807393   53.072040     0.525006              2.260359  \n",
      "1          W       99.630048   71.293862     2.494165             30.830351  \n",
      "2          W       33.464684    0.405269     0.482110             33.541525  \n",
      "3          W       34.501359    8.757262     1.197450             26.941547  \n",
      "4          W        9.333640  -12.764449     0.185241             22.283331  \n",
      "...      ...             ...         ...          ...                   ...  \n",
      "22731      W      120.736001   92.581145     3.971283             24.183573  \n",
      "22732      W       74.756483   52.305391     1.051064             21.400028  \n",
      "22733      W       69.137400   27.096647     0.873838             42.914591  \n",
      "22734      W      114.188354   96.118901     1.590235             19.659687  \n",
      "22735      W      132.352932  131.705821     2.079312              1.432200  \n",
      "\n",
      "[22736 rows x 12 columns]\n",
      "       Unnamed: 0                                     seq modifications  \\\n",
      "0               6                            GPNGAIYELGPR                 \n",
      "1               8  KEGITGPPADSSKPIGPDDYIDALSSDFTCGSPTAAGK                 \n",
      "2              16                        VGLSGAPAYACSTAQK                 \n",
      "3              21                               TLSDYDIQK                 \n",
      "4              29                             YATSCYSCCPR                 \n",
      "...           ...                                     ...           ...   \n",
      "22731      113200                         YFLVGAGYIGCELLK                 \n",
      "22732      113202                           DYSHYYYTIEDLR                 \n",
      "22733      113207                             WSDVAYLEGAK                 \n",
      "22734      113208         IAPALCCGNTVVIKPYEQTPLSALYMGALIK  25|Oxidation   \n",
      "22735      113212            GQDMETEAHQNKLEYMINELAVAMTAVK                 \n",
      "\n",
      "               tr                                orig_seq  sel_pos aa_sw1  \\\n",
      "0       52.547034                            GPNGAIFELGPR        6      F   \n",
      "1       68.799698  KEGITGPPADSSKPIGPDDAIDALSSDFTCGSPTAAGK       19      A   \n",
      "2       -0.076841                        VGLSGAPADACSTAQK        8      D   \n",
      "3        7.559812                               TLSDYDIQK        4      Y   \n",
      "4      -12.949690                             YATSCYSCCPR        5      Y   \n",
      "...           ...                                     ...      ...    ...   \n",
      "22731   96.552428                         YFLVGAGAIGCELLK        7      A   \n",
      "22732   53.356455                           DYSHYYTTIEDLR        6      T   \n",
      "22733   26.222810                             WSDVAGLEGAK        5      G   \n",
      "22734   94.528666         IAPALCCGNTVVIKPAEQTPLSALYMGALIK       15      A   \n",
      "22735  133.785132            GQDMETEAHQNKLEEMINELAVAMTAVK       14      E   \n",
      "\n",
      "      aa_sw2  preds_switched       preds  preds_error  preds_switched_error  \n",
      "0          Y       32.476287   53.072040     0.525006             20.070747  \n",
      "1          Y       81.261405   71.293862     2.494165             12.461707  \n",
      "2          Y       15.024345    0.405269     0.482110             15.101186  \n",
      "3          Y        8.757262    8.757262     1.197450              1.197450  \n",
      "4          Y      -12.764449  -12.764449     0.185241              0.185241  \n",
      "...      ...             ...         ...          ...                   ...  \n",
      "22731      Y       98.677775   92.581145     3.971283              2.125346  \n",
      "22732      Y       59.372439   52.305391     1.051064              6.015984  \n",
      "22733      Y       45.714153   27.096647     0.873838             19.491344  \n",
      "22734      Y      101.013385   96.118901     1.590235              6.484718  \n",
      "22735      Y      132.605527  131.705821     2.079312              1.179605  \n",
      "\n",
      "[22736 rows x 12 columns]\n"
     ]
    }
   ],
   "source": [
    "all_dfs = []\n",
    "for f in os.listdir(\".\"):\n",
    "    if not f.endswith(\".csv\"):\n",
    "        continue\n",
    "    if not \"middle_mut\" in f:\n",
    "        continue\n",
    "    print(pd.read_csv(f,dtype={\"aa_sw1\":str}).fillna(\"\"))\n",
    "    all_dfs.append(pd.read_csv(f,dtype={\"aa_sw1\":str}).fillna(\"\"))\n",
    "\n",
    "dfs = pd.concat(all_dfs)"
   ]
  },
  {
   "cell_type": "code",
   "execution_count": 155,
   "id": "50195596",
   "metadata": {
    "scrolled": true
   },
   "outputs": [
    {
     "name": "stdout",
     "output_type": "stream",
     "text": [
      "A A 3.8312602614160706e-08\n",
      "A C 4.483452686122807\n",
      "A D 3.3351979698102605\n",
      "A E 1.7026926116335634\n",
      "A F -26.86384063724947\n",
      "A G 7.2272756653276105\n",
      "A H 24.657606609211502\n",
      "A I -20.430451171119756\n",
      "A K 23.607974133519907\n",
      "A L -23.270599569203434\n",
      "A M -14.09340333941625\n",
      "A N 8.666896661909812\n",
      "A P 1.4112656454031092\n",
      "A Q 6.457829185914085\n",
      "A R 21.525550256176995\n",
      "A S 6.128173445840723\n",
      "A T 2.8090128995875725\n",
      "A V -11.464234529038412\n",
      "A W -29.802424647634275\n",
      "A Y -10.053905743955152\n",
      "C A -4.599811534053015\n",
      "C C 1.2780310359764133e-07\n",
      "C D -1.2938313711021663\n",
      "C E -2.6078604291509078\n",
      "C F -29.90579564306049\n",
      "C G 2.1737702160849253\n",
      "C H 19.764757059333895\n",
      "C I -23.68052571476138\n",
      "C K 18.563344008248354\n",
      "C L -26.359833208479785\n",
      "C M -17.780238723183135\n",
      "C N 3.8928244240925602\n",
      "C P -3.3642604183828753\n",
      "C Q 1.874807697167101\n",
      "C R 16.779671176753908\n",
      "C S 1.3196679244895702\n",
      "C T -1.8347406073772567\n",
      "C V -15.290077379929542\n",
      "C W -32.362200773874434\n",
      "C Y -13.485340551367194\n",
      "D A -2.486235219200266\n",
      "D C 1.4404313101772315\n",
      "D D 3.421798343704306e-08\n",
      "D E -1.202602526363381\n",
      "D F -28.216982710139995\n",
      "D G 4.131806599944865\n",
      "D H 21.717054355706242\n",
      "D I -21.68962826686485\n",
      "D K 20.683561336755734\n",
      "D L -24.502264104463\n",
      "D M -15.915580624731733\n",
      "D N 5.255480189995376\n",
      "D P -1.4316299570187259\n",
      "D Q 3.3273120838555394\n",
      "D R 18.522558907682857\n",
      "D S 2.8980270476389745\n",
      "D T 0.017510932388619588\n",
      "D V -13.04086880407275\n",
      "D W -30.92510409004691\n",
      "D Y -11.804670741853187\n",
      "E A -1.1207185183641717\n",
      "E C 2.750805675068662\n",
      "E D 1.3660426254410578\n",
      "E E -9.721713968775944e-08\n",
      "E F -28.245684398993074\n",
      "E G 5.683641376491148\n",
      "E H 22.998790288938157\n",
      "E I -21.232808897616476\n",
      "E K 21.860588972476194\n",
      "E L -24.172211157287805\n",
      "E M -15.153290711899476\n",
      "E N 6.852197303329166\n",
      "E P -0.2768049102893738\n",
      "E Q 4.641338560064054\n",
      "E R 19.698559305151846\n",
      "E S 4.433649426367729\n",
      "E T 1.3772492431398617\n",
      "E V -12.146526873954636\n",
      "E W -31.329132768524595\n",
      "E Y -11.430997593925872\n",
      "F A 28.726255324222393\n",
      "F C 32.546354613684244\n",
      "F D 31.499042039151355\n",
      "F E 30.403070948089052\n",
      "F F -4.272065460898918e-08\n",
      "F G 35.16618637167384\n",
      "F H 52.24744465665565\n",
      "F I 7.107408198970359\n",
      "F K 51.95013103665612\n",
      "F L 4.029211989348921\n",
      "F M 14.04123003932243\n",
      "F N 36.64875314250258\n",
      "F P 28.071318353545685\n",
      "F Q 34.96789892491241\n",
      "F R 49.49115956934922\n",
      "F S 34.39985439055209\n",
      "F T 31.17911467519192\n",
      "F V 16.591204859014525\n",
      "F W -2.7060055736272317\n",
      "F Y 18.03283665784615\n",
      "G A -6.246152891236\n",
      "G C -2.363903137244021\n",
      "G D -3.5837588243726795\n",
      "G E -4.711646140324486\n",
      "G F -32.447150173159876\n",
      "G G 8.19551128441862e-08\n",
      "G H 17.405516731703976\n",
      "G I -25.863181429531885\n",
      "G K 16.89282857753818\n",
      "G L -28.671323466029655\n",
      "G M -19.789626782132338\n",
      "G N 1.4091820056257447\n",
      "G P -5.746467608524484\n",
      "G Q -0.3235424641475214\n",
      "G R 14.707250928082912\n",
      "G S -0.8047309207123308\n",
      "G T -3.7594759884140205\n",
      "G V -17.130059586299314\n",
      "G W -35.01989218194179\n",
      "G Y -15.71045834122641\n",
      "H A -23.622832186770836\n",
      "H C -19.75134532444955\n",
      "H D -21.322364516331152\n",
      "H E -22.260326524744467\n",
      "H F -48.97201457497739\n",
      "H G -17.356479470268614\n",
      "H H -1.4087444738884072e-07\n",
      "H I -42.65813905040469\n",
      "H K -0.6724973612177423\n",
      "H L -45.37907319507378\n",
      "H M -36.67537906529881\n",
      "H N -16.21378229466069\n",
      "H P -23.047774902468966\n",
      "H Q -17.899058655471414\n",
      "H R -2.932590497582971\n",
      "H S -18.417536149889138\n",
      "H T -21.23484518415905\n",
      "H V -34.192903196672546\n",
      "H W -51.46524676246286\n",
      "H Y -32.83669502967825\n",
      "I A 21.604002868793874\n",
      "I C 25.730436426182152\n",
      "I D 24.78644126196547\n",
      "I E 23.487754425154595\n",
      "I F -6.745980264036189\n",
      "I G 28.28005340662034\n",
      "I H 44.87982695688182\n",
      "I I -3.004721338917738e-08\n",
      "I K 44.382361358985925\n",
      "I L -2.9504451089906625\n",
      "I M 6.907199965382487\n",
      "I N 29.86667164811554\n",
      "I P 21.42198107691927\n",
      "I Q 28.07841843572574\n",
      "I R 42.00445486996933\n",
      "I S 27.531090491553705\n",
      "I T 24.151729391666844\n",
      "I V 9.387360583686819\n",
      "I W -9.642754806390116\n",
      "I Y 10.950746392478065\n",
      "K A -22.453153963809832\n",
      "K C -18.23276348632071\n",
      "K D -19.364541063029943\n",
      "K E -20.359299631082717\n",
      "K F -46.76067605426652\n",
      "K G -16.282477236101347\n",
      "K H 1.048490623243434\n",
      "K I -40.992424048099465\n",
      "K K -3.3914197046554985e-07\n",
      "K L -43.547543506169006\n",
      "K M -35.04556292794013\n",
      "K N -14.998353316840353\n",
      "K P -21.440765387195903\n",
      "K Q -16.34510311808405\n",
      "K R -2.0231190662132463\n",
      "K S -17.098023105297436\n",
      "K T -20.215834452446295\n",
      "K V -32.94864810802139\n",
      "K W -48.895153878804386\n",
      "K Y -30.882675899484756\n",
      "L A 24.82375006500843\n",
      "L C 28.903358867172514\n",
      "L D 28.00385928707476\n",
      "L E 26.661619032262365\n",
      "L F -3.886797601202612\n",
      "L G 31.581115635683947\n",
      "L H 48.61368371868431\n",
      "L I 3.090124897165703\n",
      "L K 48.04930112772915\n",
      "L L -3.167846899870268e-09\n",
      "L M 9.938738234336881\n",
      "L N 33.155415874879864\n",
      "L P 24.498250683808447\n",
      "L Q 31.305210030340245\n",
      "L R 45.683108044825254\n",
      "L S 30.798515036586874\n",
      "L T 27.478069693253644\n",
      "L V 12.656599382590203\n",
      "L W -6.669413854127729\n",
      "L Y 14.133572912356586\n",
      "M A 12.271819425394263\n",
      "M C 17.37624735521247\n",
      "M D 15.57402934426228\n",
      "M E 14.215814822148449\n",
      "M F -15.479456638484638\n",
      "M G 19.560753782722806\n",
      "M H 36.6741006782068\n",
      "M I -8.976863645850791\n",
      "M K 35.67612048539365\n",
      "M L -11.891382447397472\n",
      "M M 2.1529515391438302e-07\n",
      "M N 20.79451392868339\n",
      "M P 13.084944242726987\n",
      "M Q 18.807498124521405\n",
      "M R 33.64859157295081\n",
      "M S 18.539485390241616\n",
      "M T 15.342885259386446\n",
      "M V 0.30783007862333345\n",
      "M W -18.523200430081587\n",
      "M Y 1.7199788448690536\n",
      "N A -7.522607893144725\n",
      "N C -3.708515130989127\n",
      "N D -5.182055425786472\n",
      "N E -6.306689004894403\n",
      "N F -32.949650033071975\n",
      "N G -1.1671496231693026\n",
      "N H 16.63232804962036\n",
      "N I -26.44399895878754\n",
      "N K 15.490347669166026\n",
      "N L -29.18028818215647\n",
      "N M -20.757668593288027\n",
      "N N 9.599646989958845e-08\n",
      "N P -6.595990580076787\n",
      "N Q -1.8390197173716873\n",
      "N R 13.42701686210438\n",
      "N S -2.339743522236354\n",
      "N T -5.155583536862796\n",
      "N V -17.9386911696759\n",
      "N W -35.56628822568322\n",
      "N Y -16.795331816988117\n",
      "P A -0.1452932049738389\n",
      "P C 3.2646502468423995\n",
      "P D 2.090042292603808\n",
      "P E 1.104936049246354\n",
      "P F -25.873554092113388\n",
      "P G 5.677022799272576\n",
      "P H 22.540837697416567\n",
      "P I -19.408644858621308\n",
      "P K 21.959674362764567\n",
      "P L -22.096606245289372\n",
      "P M -13.373284720061186\n",
      "P N 6.966592511747135\n",
      "P P 8.403954824385735e-08\n",
      "P Q 5.335225055421319\n",
      "P R 19.706418029536472\n",
      "P S 4.854263834511022\n",
      "P T 2.0217632935435628\n",
      "P V -10.785255625326586\n",
      "P W -28.574356919542467\n",
      "P Y -9.79121500172745\n",
      "Q A -5.8848061623696415\n",
      "Q C -1.7489965969714252\n",
      "Q D -3.2210291661060504\n",
      "Q E -4.595168854465126\n",
      "Q F -31.408419666960956\n",
      "Q G 0.9282485494036173\n",
      "Q H 18.783388635385915\n",
      "Q I -24.683726924301645\n",
      "Q K 17.471117727852945\n",
      "Q L -27.487744850408994\n",
      "Q M -19.003597025982934\n",
      "Q N 2.241982990677341\n",
      "Q P -4.39342660970175\n",
      "Q Q -9.486411128071463e-08\n",
      "Q R 15.469976939745763\n",
      "Q S -0.28980999080089065\n",
      "Q T -3.230379556627527\n",
      "Q V -16.09992993368498\n",
      "Q W -34.2626269406276\n",
      "Q Y -15.21997346409866\n",
      "R A -19.872671154921143\n",
      "R C -16.456017700874515\n",
      "R D -18.483167955655116\n",
      "R E -18.01109654182669\n",
      "R F -45.8152611825702\n",
      "R G -15.021562804455991\n",
      "R H 2.495081147916659\n",
      "R I -39.97298105803268\n",
      "R K 2.3394359992179505\n",
      "R L -42.436691249544204\n",
      "R M -33.326580893361836\n",
      "R N -13.978227651538958\n",
      "R P -20.396543077432618\n",
      "R Q -14.21657698884101\n",
      "R R 5.282239505682559e-07\n",
      "R S -15.49557661400283\n",
      "R T -18.32808191095587\n",
      "R V -31.528252076894887\n",
      "R W -48.06913267371807\n",
      "R Y -29.021102919576595\n",
      "S A -5.340317703563581\n",
      "S C -1.6265237697350496\n",
      "S D -2.808413259512425\n",
      "S E -4.064077906241378\n",
      "S F -31.68333605738819\n",
      "S G 0.9396389312960008\n",
      "S H 18.135410024673693\n",
      "S I -25.037225894304672\n",
      "S K 17.35811557582719\n",
      "S L -27.819029533274847\n",
      "S M -19.01390318749339\n",
      "S N 2.265887876332832\n",
      "S P -4.82307838953815\n",
      "S Q 0.4084458685451114\n",
      "S R 15.120021456057932\n",
      "S S -4.225866531986788e-08\n",
      "S T -2.9864761450501596\n",
      "S V -16.28167748796045\n",
      "S W -34.35348954296278\n",
      "S Y -15.093708572319668\n",
      "T A -2.337690803666022\n",
      "T C 1.326574952509656\n",
      "T D -0.012290378200963485\n",
      "T E -1.0432479739651441\n",
      "T F -28.95414410225416\n",
      "T G 3.854747679108219\n",
      "T H 21.206971433661668\n",
      "T I -22.108145957760293\n",
      "T K 20.453313945919433\n",
      "T L -24.95896024875321\n",
      "T M -16.022515172921466\n",
      "T N 5.140381634233943\n",
      "T P -2.1211927053703508\n",
      "T Q 3.3827287063907954\n",
      "T R 18.300685907592715\n",
      "T S 2.9117977148024736\n",
      "T T 4.0404815463899994e-08\n",
      "T V -13.298832659840059\n",
      "T W -31.657910921640042\n",
      "T Y -12.077705209849507\n",
      "V A 12.26612363381468\n",
      "V C 16.284510231722706\n",
      "V D 15.35202347627453\n",
      "V E 13.936848986448886\n",
      "V F -16.35780115100461\n",
      "V G 18.96814414552195\n",
      "V H 36.1167977270392\n",
      "V I -9.436315674664623\n",
      "V K 35.43293973756661\n",
      "V L -12.4415985403885\n",
      "V M -2.5710777392557342\n",
      "V N 20.58462437883927\n",
      "V P 11.685823114131093\n",
      "V Q 18.676093428283696\n",
      "V R 33.0905589516464\n",
      "V S 18.195276677111142\n"
     ]
    },
    {
     "name": "stdout",
     "output_type": "stream",
     "text": [
      "V T 14.7854409026383\n",
      "V V -7.104757573378269e-08\n",
      "V W -19.111732373975503\n",
      "V Y 1.4963472314865827\n",
      "W A 32.28733408395432\n",
      "W C 35.357416202214374\n",
      "W D 34.30051302118433\n",
      "W E 33.44652261000169\n",
      "W F 3.3259717710762358\n",
      "W G 37.94979758356847\n",
      "W H 54.398760917856166\n",
      "W I 10.792071961251862\n",
      "W K 54.464918174306504\n",
      "W L 7.767922712658776\n",
      "W M 17.74347603305645\n",
      "W N 39.411368953952156\n",
      "W P 30.17238134457408\n",
      "W Q 37.82355210634422\n",
      "W R 51.91157132869859\n",
      "W S 37.56511742033228\n",
      "W T 34.49168356299948\n",
      "W V 20.39614239606545\n",
      "W W -2.747337554790662e-07\n",
      "W Y 20.856151867720452\n",
      "Y A 10.4095105892956\n",
      "Y C 14.81815628550318\n",
      "Y D 13.93244898011007\n",
      "Y E 12.297795913379131\n",
      "Y F -17.163930050669023\n",
      "Y G 17.507077673631752\n",
      "Y H 34.81367907528613\n",
      "Y I -10.352395107100445\n",
      "Y K 33.90906433608212\n",
      "Y L -13.262776234893927\n",
      "Y M -3.825700327275701\n",
      "Y N 19.11073208725014\n",
      "Y P 10.499767928844324\n",
      "Y Q 17.093960500907663\n",
      "Y R 31.79990522384595\n",
      "Y S 16.61481667621439\n",
      "Y T 13.153837173346238\n",
      "Y V -1.3157807019070469\n",
      "Y W -19.926642169258166\n",
      "Y Y 1.955886229172256e-08\n"
     ]
    }
   ],
   "source": [
    "all_aa = \"ACDEFGHIKLMNPQRSTVWY\"\n",
    "dist_matrix = {}\n",
    "for aa1 in all_aa:\n",
    "    dist_matrix[aa1] = {}\n",
    "    for aa2 in all_aa:\n",
    "        df_subsel = dfs[(dfs[\"aa_sw1\"] == aa1) & (dfs[\"aa_sw2\"] == aa2)]\n",
    "        dist_matrix[aa1][aa2] = sum(df_subsel[\"preds\"] - df_subsel[\"preds_switched\"])/len(df_subsel.index)\n",
    "        #plt.scatter(df_subsel[\"preds\"], df_subsel[\"preds_switched\"])\n",
    "        #plt.show()\n",
    "        print(aa1,aa2,sum(df_subsel[\"preds\"] - df_subsel[\"preds_switched\"])/len(df_subsel.index))"
   ]
  },
  {
   "cell_type": "code",
   "execution_count": 157,
   "id": "d1b15ec3",
   "metadata": {},
   "outputs": [
    {
     "data": {
      "image/png": "[encoded data removed]",
      "text/plain": [
       "<Figure size 1000x1000 with 4 Axes>"
      ]
     },
     "metadata": {},
     "output_type": "display_data"
    }
   ],
   "source": [
    "cg = sns.clustermap(pd.DataFrame(dist_matrix)[list(\"MVYFWILRHKNGQSAPCEDT\")], cmap=\"vlag\",col_cluster=False)\n",
    "cg.ax_row_dendrogram.set_visible(False)\n",
    "cg.ax_col_dendrogram.set_visible(False)\n",
    "plt.savefig(\"Mutation_fig.svg\")\n"
   ]
  },
  {
   "cell_type": "code",
   "execution_count": 134,
   "id": "b6db0ce4",
   "metadata": {},
   "outputs": [
    {
     "data": {
      "text/plain": [
       "20"
      ]
     },
     "execution_count": 134,
     "metadata": {},
     "output_type": "execute_result"
    }
   ],
   "source": []
  },
  {
   "cell_type": "code",
   "execution_count": null,
   "id": "308948c6",
   "metadata": {},
   "outputs": [],
   "source": []
  },
  {
   "cell_type": "code",
   "execution_count": null,
   "id": "4a41520c",
   "metadata": {},
   "outputs": [],
   "source": []
  },
  {
   "cell_type": "code",
   "execution_count": null,
   "id": "d2f89c4b",
   "metadata": {},
   "outputs": [],
   "source": []
  },
  {
   "cell_type": "code",
   "execution_count": null,
   "id": "9048bbb1",
   "metadata": {},
   "outputs": [],
   "source": []
  },
  {
   "cell_type": "code",
   "execution_count": null,
   "id": "3012d314",
   "metadata": {},
   "outputs": [],
   "source": []
  },
  {
   "cell_type": "code",
   "execution_count": null,
   "id": "0c0b3b93",
   "metadata": {},
   "outputs": [],
   "source": []
  },
  {
   "cell_type": "code",
   "execution_count": null,
   "id": "ead1a2f4",
   "metadata": {},
   "outputs": [],
   "source": []
  },
  {
   "cell_type": "code",
   "execution_count": null,
   "id": "a9a20196",
   "metadata": {},
   "outputs": [],
   "source": [
    "all_errors = [dfs_subsel[\"tr\"]-dfs_subsel[\"preds\"]]\n",
    "\n",
    "for i in range(2,7):\n",
    "    dfs_subsel = dfs[dfs[\"len_switch\"] == i]\n",
    "    all_errors.append(dfs_subsel[\"tr\"]-dfs_subsel[\"preds_switched\"])\n",
    "    \n",
    "plt.boxplot(all_errors)\n",
    "plt.ylim(-20,20)\n",
    "plt.show()"
   ]
  },
  {
   "cell_type": "code",
   "execution_count": null,
   "id": "ba4dab0e",
   "metadata": {},
   "outputs": [],
   "source": [
    "plt.scatter(df[\"tr\"],preds_cal_switched,s=1,alpha=0.05)\n",
    "plt.show()\n",
    "plt.scatter(df[\"tr\"],preds_cal,s=1,alpha=0.05)\n",
    "plt.show()"
   ]
  },
  {
   "cell_type": "code",
   "execution_count": null,
   "id": "17cc84b1",
   "metadata": {},
   "outputs": [],
   "source": [
    "plt.scatter(preds_cal_switched,preds_cal,s=1,alpha=0.05)\n",
    "plt.plot([-50,150],[-50,150],c=\"grey\")\n",
    "plt.show()"
   ]
  },
  {
   "cell_type": "code",
   "execution_count": null,
   "id": "a96c593d",
   "metadata": {},
   "outputs": [],
   "source": [
    "df"
   ]
  },
  {
   "cell_type": "code",
   "execution_count": null,
   "id": "e63aba78",
   "metadata": {},
   "outputs": [],
   "source": [
    "df[\"diff_preds\"] = df[\"preds\"]-df[\"preds_switched\"]"
   ]
  },
  {
   "cell_type": "code",
   "execution_count": null,
   "id": "335d31be",
   "metadata": {
    "scrolled": false
   },
   "outputs": [],
   "source": [
    "from_aa_to_diff = {}\n",
    "impact_aa_diff = {}\n",
    "aa_pos = set(df[\"aa_sw1\"])\n",
    "for aa in aa_pos:\n",
    "    for aa2 in aa_pos:\n",
    "        from_aa_to_diff[\"%s|%s\" % (aa,aa2)] = df[(df[\"aa_sw1\"] == aa) & (df[\"aa_sw2\"] == aa2)][\"diff_preds\"]\n",
    "        try:\n",
    "            impact_aa_diff[\"%s|%s\" % (aa,aa2)] = sum(abs(from_aa_to_diff[\"%s|%s\" % (aa,aa2)]))/len(from_aa_to_diff[\"%s|%s\" % (aa,aa2)])\n",
    "        except:\n",
    "            pass"
   ]
  },
  {
   "cell_type": "code",
   "execution_count": null,
   "id": "47be51af",
   "metadata": {
    "scrolled": false
   },
   "outputs": [],
   "source": [
    "aa_sel = [k for k,v in impact_aa_diff.items() if v > 8]\n",
    "print(aa_sel)\n",
    "#plt.scatter(impact_aa_diff.values(),range(0,len(impact_aa_diff.values())))\n",
    "#plt.boxplot(from_aa_to_diff.values())"
   ]
  },
  {
   "cell_type": "code",
   "execution_count": null,
   "id": "4382e91a",
   "metadata": {
    "scrolled": false
   },
   "outputs": [],
   "source": [
    "plt.boxplot([from_aa_to_diff[k] for k in aa_sel])\n",
    "plt.show()"
   ]
  },
  {
   "cell_type": "code",
   "execution_count": null,
   "id": "fd513218",
   "metadata": {},
   "outputs": [],
   "source": [
    "below = df[df[\"diff_preds\"] < -2.0]\n",
    "middle = df[(df[\"diff_preds\"] <= 2.0) & (df[\"diff_preds\"] >= -2.0)]\n",
    "above = df[df[\"diff_preds\"] > 2.0]"
   ]
  },
  {
   "cell_type": "code",
   "execution_count": null,
   "id": "e2b36a07",
   "metadata": {},
   "outputs": [],
   "source": [
    "occ_dict = {}\n",
    "occ_dict[\"aa_sw1_below\"] = dict(Counter(below[\"aa_sw1\"]))\n",
    "occ_dict[\"aa_sw2_below\"] = dict(Counter(below[\"aa_sw2\"]))\n",
    "occ_dict[\"aa_sw1_above\"] = dict(Counter(above[\"aa_sw1\"]))\n",
    "occ_dict[\"aa_sw2_above\"] = dict(Counter(above[\"aa_sw2\"]))\n",
    "occ_dict[\"aa_sw1_middle\"] = dict(Counter(middle[\"aa_sw1\"]))\n",
    "occ_dict[\"aa_sw2_middle\"] = dict(Counter(middle[\"aa_sw2\"]))\n",
    "occ_dict[\"aa_sw1_all\"] = dict(Counter(df[\"aa_sw1\"]))\n",
    "occ_dict[\"aa_sw2_all\"] = dict(Counter(df[\"aa_sw2\"]))"
   ]
  },
  {
   "cell_type": "code",
   "execution_count": null,
   "id": "52083f45",
   "metadata": {},
   "outputs": [],
   "source": [
    "occ_df = pd.DataFrame(occ_dict)"
   ]
  },
  {
   "cell_type": "code",
   "execution_count": null,
   "id": "bc41767b",
   "metadata": {},
   "outputs": [],
   "source": [
    "occ_df/occ_df.max(axis=0)"
   ]
  },
  {
   "cell_type": "code",
   "execution_count": null,
   "id": "5d3ea653",
   "metadata": {},
   "outputs": [],
   "source": [
    "plt.boxplot([df[\"preds_error\"],df[\"preds_switched_error\"]])\n",
    "plt.ylim(0,25)\n",
    "plt.show()"
   ]
  },
  {
   "cell_type": "code",
   "execution_count": null,
   "id": "6c3cf59e",
   "metadata": {},
   "outputs": [],
   "source": [
    "# Pie chart, where the slices will be ordered and plotted counter-clockwise:\n",
    "labels = 'Original best', 'Swapped middle two AA best'\n",
    "sizes = [better_orig/total, better_swap/total]\n",
    "explode = (0, 0)  # only \"explode\" the 2nd slice (i.e. 'Hogs')\n",
    "\n",
    "fig1, ax1 = plt.subplots()\n",
    "ax1.pie(sizes, labels=labels, autopct='%1.1f%%',\n",
    "        shadow=False)\n",
    "ax1.axis('equal')  # Equal aspect ratio ensures that pie is drawn as a circle.\n",
    "\n",
    "plt.show()"
   ]
  },
  {
   "cell_type": "code",
   "execution_count": null,
   "id": "33733132",
   "metadata": {},
   "outputs": [],
   "source": [
    "df[\"length\"] = df[\"seq\"].apply(len)"
   ]
  },
  {
   "cell_type": "code",
   "execution_count": null,
   "id": "ca24956e",
   "metadata": {
    "scrolled": false
   },
   "outputs": [],
   "source": [
    "for i in range(7,35):\n",
    "    sub_df = df[df[\"length\"] == i]\n",
    "    print(i,sum(sub_df[\"preds_error\"] > sub_df[\"preds_switched_error\"])/sum(sub_df[\"preds_error\"] < sub_df[\"preds_switched_error\"]))"
   ]
  },
  {
   "cell_type": "code",
   "execution_count": null,
   "id": "40e01253",
   "metadata": {},
   "outputs": [],
   "source": [
    "plt.scatter(get_predicted_spectrum(df[\"seq\"].loc[113192],\"-\",2)[1],get_predicted_spectrum(df[\"orig_seq\"].loc[113192],\"-\",2)[1])"
   ]
  },
  {
   "cell_type": "code",
   "execution_count": null,
   "id": "e3d7b798",
   "metadata": {},
   "outputs": [],
   "source": [
    "!pip install spectrum_utils"
   ]
  },
  {
   "cell_type": "code",
   "execution_count": null,
   "id": "47dea69a",
   "metadata": {},
   "outputs": [],
   "source": [
    "#shutil.rmtree('temp/')\n",
    "#os.mkdir(\"temp/\")"
   ]
  }
 ],
 "metadata": {
  "kernelspec": {
   "display_name": "Python 3 (ipykernel)",
   "language": "python",
   "name": "python3"
  },
  "language_info": {
   "codemirror_mode": {
    "name": "ipython",
    "version": 3
   },
   "file_extension": ".py",
   "mimetype": "text/x-python",
   "name": "python",
   "nbconvert_exporter": "python",
   "pygments_lexer": "ipython3",
   "version": "3.10.6"
  }
 },
 "nbformat": 4,
 "nbformat_minor": 5
}
